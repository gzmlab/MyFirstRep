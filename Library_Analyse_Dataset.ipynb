{
  "nbformat": 4,
  "nbformat_minor": 0,
  "metadata": {
    "kernelspec": {
      "name": "python3",
      "display_name": "Python 3"
    },
    "colab": {
      "name": "Library - Analyse Dataset.ipynb",
      "provenance": [],
      "collapsed_sections": [],
      "include_colab_link": true
    },
    "accelerator": "GPU",
    "widgets": {
      "application/vnd.jupyter.widget-state+json": {
        "da3cda51db144be49b0a7a73a9afcae5": {
          "model_module": "@jupyter-widgets/controls",
          "model_name": "IntSliderModel",
          "state": {
            "_view_name": "IntSliderView",
            "style": "IPY_MODEL_23975165164348049c504c782de5443f",
            "_dom_classes": [],
            "description": "Range Slider:",
            "step": 1,
            "_model_name": "IntSliderModel",
            "orientation": "horizontal",
            "max": 20,
            "_view_module": "@jupyter-widgets/controls",
            "_model_module_version": "1.5.0",
            "value": 13,
            "_view_count": null,
            "disabled": false,
            "_view_module_version": "1.5.0",
            "min": -5,
            "continuous_update": false,
            "readout_format": "d",
            "description_tooltip": null,
            "readout": true,
            "_model_module": "@jupyter-widgets/controls",
            "layout": "IPY_MODEL_9fd7d7bfb833454389740641937cc5cd"
          }
        },
        "23975165164348049c504c782de5443f": {
          "model_module": "@jupyter-widgets/controls",
          "model_name": "SliderStyleModel",
          "state": {
            "_view_name": "StyleView",
            "handle_color": null,
            "_model_name": "SliderStyleModel",
            "description_width": "",
            "_view_module": "@jupyter-widgets/base",
            "_model_module_version": "1.5.0",
            "_view_count": null,
            "_view_module_version": "1.2.0",
            "_model_module": "@jupyter-widgets/controls"
          }
        },
        "9fd7d7bfb833454389740641937cc5cd": {
          "model_module": "@jupyter-widgets/base",
          "model_name": "LayoutModel",
          "state": {
            "_view_name": "LayoutView",
            "grid_template_rows": null,
            "right": null,
            "justify_content": null,
            "_view_module": "@jupyter-widgets/base",
            "overflow": null,
            "_model_module_version": "1.2.0",
            "_view_count": null,
            "flex_flow": null,
            "width": null,
            "min_width": null,
            "border": null,
            "align_items": null,
            "bottom": null,
            "_model_module": "@jupyter-widgets/base",
            "top": null,
            "grid_column": null,
            "overflow_y": null,
            "overflow_x": null,
            "grid_auto_flow": null,
            "grid_area": null,
            "grid_template_columns": null,
            "flex": null,
            "_model_name": "LayoutModel",
            "justify_items": null,
            "grid_row": null,
            "max_height": null,
            "align_content": null,
            "visibility": null,
            "align_self": null,
            "height": null,
            "min_height": null,
            "padding": null,
            "grid_auto_rows": null,
            "grid_gap": null,
            "max_width": null,
            "order": null,
            "_view_module_version": "1.2.0",
            "grid_template_areas": null,
            "object_position": null,
            "object_fit": null,
            "grid_auto_columns": null,
            "margin": null,
            "display": null,
            "left": null
          }
        },
        "e7943b18e0fd48158d9659efe4c10202": {
          "model_module": "@jupyter-widgets/controls",
          "model_name": "IntRangeSliderModel",
          "state": {
            "_view_name": "IntRangeSliderView",
            "style": "IPY_MODEL_c08fe12526e54da69fed1b142875a593",
            "_dom_classes": [],
            "description": "Price Slider:",
            "step": 1,
            "_model_name": "IntRangeSliderModel",
            "orientation": "horizontal",
            "max": 10000,
            "_view_module": "@jupyter-widgets/controls",
            "_model_module_version": "1.5.0",
            "value": [
              3509,
              8272
            ],
            "_view_count": null,
            "disabled": false,
            "_view_module_version": "1.5.0",
            "min": 0,
            "continuous_update": true,
            "readout_format": "d",
            "description_tooltip": null,
            "readout": true,
            "_model_module": "@jupyter-widgets/controls",
            "layout": "IPY_MODEL_4b6712383e124b88b87387353e7add65"
          }
        },
        "c08fe12526e54da69fed1b142875a593": {
          "model_module": "@jupyter-widgets/controls",
          "model_name": "SliderStyleModel",
          "state": {
            "_view_name": "StyleView",
            "handle_color": null,
            "_model_name": "SliderStyleModel",
            "description_width": "",
            "_view_module": "@jupyter-widgets/base",
            "_model_module_version": "1.5.0",
            "_view_count": null,
            "_view_module_version": "1.2.0",
            "_model_module": "@jupyter-widgets/controls"
          }
        },
        "4b6712383e124b88b87387353e7add65": {
          "model_module": "@jupyter-widgets/base",
          "model_name": "LayoutModel",
          "state": {
            "_view_name": "LayoutView",
            "grid_template_rows": null,
            "right": null,
            "justify_content": null,
            "_view_module": "@jupyter-widgets/base",
            "overflow": null,
            "_model_module_version": "1.2.0",
            "_view_count": null,
            "flex_flow": null,
            "width": null,
            "min_width": null,
            "border": null,
            "align_items": null,
            "bottom": null,
            "_model_module": "@jupyter-widgets/base",
            "top": null,
            "grid_column": null,
            "overflow_y": null,
            "overflow_x": null,
            "grid_auto_flow": null,
            "grid_area": null,
            "grid_template_columns": null,
            "flex": null,
            "_model_name": "LayoutModel",
            "justify_items": null,
            "grid_row": null,
            "max_height": null,
            "align_content": null,
            "visibility": null,
            "align_self": null,
            "height": null,
            "min_height": null,
            "padding": null,
            "grid_auto_rows": null,
            "grid_gap": null,
            "max_width": null,
            "order": null,
            "_view_module_version": "1.2.0",
            "grid_template_areas": null,
            "object_position": null,
            "object_fit": null,
            "grid_auto_columns": null,
            "margin": null,
            "display": null,
            "left": null
          }
        },
        "1095987ad10c436a80506eb7fb3c9c75": {
          "model_module": "@jupyter-widgets/controls",
          "model_name": "IntProgressModel",
          "state": {
            "_view_name": "ProgressView",
            "style": "IPY_MODEL_1dfaaee2dc70467ba9499c31504fad82",
            "_dom_classes": [],
            "description": "Loading:",
            "_model_name": "IntProgressModel",
            "bar_style": "success",
            "max": 100,
            "_view_module": "@jupyter-widgets/controls",
            "_model_module_version": "1.5.0",
            "value": 100,
            "_view_count": null,
            "_view_module_version": "1.5.0",
            "orientation": "horizontal",
            "min": 0,
            "description_tooltip": null,
            "_model_module": "@jupyter-widgets/controls",
            "layout": "IPY_MODEL_79009f25cb144e04a629d929ba421ea6"
          }
        },
        "1dfaaee2dc70467ba9499c31504fad82": {
          "model_module": "@jupyter-widgets/controls",
          "model_name": "ProgressStyleModel",
          "state": {
            "_view_name": "StyleView",
            "_model_name": "ProgressStyleModel",
            "description_width": "",
            "_view_module": "@jupyter-widgets/base",
            "_model_module_version": "1.5.0",
            "_view_count": null,
            "_view_module_version": "1.2.0",
            "bar_color": null,
            "_model_module": "@jupyter-widgets/controls"
          }
        },
        "79009f25cb144e04a629d929ba421ea6": {
          "model_module": "@jupyter-widgets/base",
          "model_name": "LayoutModel",
          "state": {
            "_view_name": "LayoutView",
            "grid_template_rows": null,
            "right": null,
            "justify_content": null,
            "_view_module": "@jupyter-widgets/base",
            "overflow": null,
            "_model_module_version": "1.2.0",
            "_view_count": null,
            "flex_flow": null,
            "width": null,
            "min_width": null,
            "border": null,
            "align_items": null,
            "bottom": null,
            "_model_module": "@jupyter-widgets/base",
            "top": null,
            "grid_column": null,
            "overflow_y": null,
            "overflow_x": null,
            "grid_auto_flow": null,
            "grid_area": null,
            "grid_template_columns": null,
            "flex": null,
            "_model_name": "LayoutModel",
            "justify_items": null,
            "grid_row": null,
            "max_height": null,
            "align_content": null,
            "visibility": null,
            "align_self": null,
            "height": null,
            "min_height": null,
            "padding": null,
            "grid_auto_rows": null,
            "grid_gap": null,
            "max_width": null,
            "order": null,
            "_view_module_version": "1.2.0",
            "grid_template_areas": null,
            "object_position": null,
            "object_fit": null,
            "grid_auto_columns": null,
            "margin": null,
            "display": null,
            "left": null
          }
        },
        "bc409e5e8b9943f8ab6451e4ba228525": {
          "model_module": "@jupyter-widgets/controls",
          "model_name": "BoundedIntTextModel",
          "state": {
            "_view_name": "IntTextView",
            "style": "IPY_MODEL_34057efdc8544c1ab7851ae6641ced87",
            "_dom_classes": [],
            "description": "Test:",
            "_model_name": "BoundedIntTextModel",
            "max": 100,
            "_view_module": "@jupyter-widgets/controls",
            "_model_module_version": "1.5.0",
            "value": 9,
            "_view_count": null,
            "disabled": false,
            "_view_module_version": "1.5.0",
            "min": 0,
            "continuous_update": false,
            "step": 1,
            "description_tooltip": null,
            "_model_module": "@jupyter-widgets/controls",
            "layout": "IPY_MODEL_a81b957368f1416196483e8db9a1a46d"
          }
        },
        "34057efdc8544c1ab7851ae6641ced87": {
          "model_module": "@jupyter-widgets/controls",
          "model_name": "DescriptionStyleModel",
          "state": {
            "_view_name": "StyleView",
            "_model_name": "DescriptionStyleModel",
            "description_width": "",
            "_view_module": "@jupyter-widgets/base",
            "_model_module_version": "1.5.0",
            "_view_count": null,
            "_view_module_version": "1.2.0",
            "_model_module": "@jupyter-widgets/controls"
          }
        },
        "a81b957368f1416196483e8db9a1a46d": {
          "model_module": "@jupyter-widgets/base",
          "model_name": "LayoutModel",
          "state": {
            "_view_name": "LayoutView",
            "grid_template_rows": null,
            "right": null,
            "justify_content": null,
            "_view_module": "@jupyter-widgets/base",
            "overflow": null,
            "_model_module_version": "1.2.0",
            "_view_count": null,
            "flex_flow": null,
            "width": null,
            "min_width": null,
            "border": null,
            "align_items": null,
            "bottom": null,
            "_model_module": "@jupyter-widgets/base",
            "top": null,
            "grid_column": null,
            "overflow_y": null,
            "overflow_x": null,
            "grid_auto_flow": null,
            "grid_area": null,
            "grid_template_columns": null,
            "flex": null,
            "_model_name": "LayoutModel",
            "justify_items": null,
            "grid_row": null,
            "max_height": null,
            "align_content": null,
            "visibility": null,
            "align_self": null,
            "height": null,
            "min_height": null,
            "padding": null,
            "grid_auto_rows": null,
            "grid_gap": null,
            "max_width": null,
            "order": null,
            "_view_module_version": "1.2.0",
            "grid_template_areas": null,
            "object_position": null,
            "object_fit": null,
            "grid_auto_columns": null,
            "margin": null,
            "display": null,
            "left": null
          }
        },
        "b83eace18054444d99ac3e2ada1cf07a": {
          "model_module": "@jupyter-widgets/controls",
          "model_name": "CheckboxModel",
          "state": {
            "_view_name": "CheckboxView",
            "style": "IPY_MODEL_b12441e7e0e149afb08c00baeb7e8a98",
            "_dom_classes": [],
            "description": "Check Me",
            "_model_name": "CheckboxModel",
            "_view_module": "@jupyter-widgets/controls",
            "_model_module_version": "1.5.0",
            "value": true,
            "_view_count": null,
            "disabled": false,
            "_view_module_version": "1.5.0",
            "indent": true,
            "description_tooltip": null,
            "_model_module": "@jupyter-widgets/controls",
            "layout": "IPY_MODEL_e9f8253632b2419ebf49934394496950"
          }
        },
        "b12441e7e0e149afb08c00baeb7e8a98": {
          "model_module": "@jupyter-widgets/controls",
          "model_name": "DescriptionStyleModel",
          "state": {
            "_view_name": "StyleView",
            "_model_name": "DescriptionStyleModel",
            "description_width": "",
            "_view_module": "@jupyter-widgets/base",
            "_model_module_version": "1.5.0",
            "_view_count": null,
            "_view_module_version": "1.2.0",
            "_model_module": "@jupyter-widgets/controls"
          }
        },
        "e9f8253632b2419ebf49934394496950": {
          "model_module": "@jupyter-widgets/base",
          "model_name": "LayoutModel",
          "state": {
            "_view_name": "LayoutView",
            "grid_template_rows": null,
            "right": null,
            "justify_content": null,
            "_view_module": "@jupyter-widgets/base",
            "overflow": null,
            "_model_module_version": "1.2.0",
            "_view_count": null,
            "flex_flow": null,
            "width": null,
            "min_width": null,
            "border": null,
            "align_items": null,
            "bottom": null,
            "_model_module": "@jupyter-widgets/base",
            "top": null,
            "grid_column": null,
            "overflow_y": null,
            "overflow_x": null,
            "grid_auto_flow": null,
            "grid_area": null,
            "grid_template_columns": null,
            "flex": null,
            "_model_name": "LayoutModel",
            "justify_items": null,
            "grid_row": null,
            "max_height": null,
            "align_content": null,
            "visibility": null,
            "align_self": null,
            "height": null,
            "min_height": null,
            "padding": null,
            "grid_auto_rows": null,
            "grid_gap": null,
            "max_width": null,
            "order": null,
            "_view_module_version": "1.2.0",
            "grid_template_areas": null,
            "object_position": null,
            "object_fit": null,
            "grid_auto_columns": null,
            "margin": null,
            "display": null,
            "left": null
          }
        },
        "e2ab742ff6e441ddad0c997750a0a075": {
          "model_module": "@jupyter-widgets/controls",
          "model_name": "DropdownModel",
          "state": {
            "_options_labels": [
              "None",
              "1",
              "2",
              "3"
            ],
            "_view_name": "DropdownView",
            "style": "IPY_MODEL_6bc16543dd4c4e398ccb6ee309ca3f30",
            "_dom_classes": [],
            "description": "Number:",
            "_model_name": "DropdownModel",
            "index": 1,
            "_view_module": "@jupyter-widgets/controls",
            "_model_module_version": "1.5.0",
            "_view_count": null,
            "disabled": false,
            "_view_module_version": "1.5.0",
            "description_tooltip": null,
            "_model_module": "@jupyter-widgets/controls",
            "layout": "IPY_MODEL_1b1ac0e6bfed444ea6b8a5af5d4c2e3d"
          }
        },
        "6bc16543dd4c4e398ccb6ee309ca3f30": {
          "model_module": "@jupyter-widgets/controls",
          "model_name": "DescriptionStyleModel",
          "state": {
            "_view_name": "StyleView",
            "_model_name": "DescriptionStyleModel",
            "description_width": "",
            "_view_module": "@jupyter-widgets/base",
            "_model_module_version": "1.5.0",
            "_view_count": null,
            "_view_module_version": "1.2.0",
            "_model_module": "@jupyter-widgets/controls"
          }
        },
        "1b1ac0e6bfed444ea6b8a5af5d4c2e3d": {
          "model_module": "@jupyter-widgets/base",
          "model_name": "LayoutModel",
          "state": {
            "_view_name": "LayoutView",
            "grid_template_rows": null,
            "right": null,
            "justify_content": null,
            "_view_module": "@jupyter-widgets/base",
            "overflow": null,
            "_model_module_version": "1.2.0",
            "_view_count": null,
            "flex_flow": null,
            "width": null,
            "min_width": null,
            "border": null,
            "align_items": null,
            "bottom": null,
            "_model_module": "@jupyter-widgets/base",
            "top": null,
            "grid_column": null,
            "overflow_y": null,
            "overflow_x": null,
            "grid_auto_flow": null,
            "grid_area": null,
            "grid_template_columns": null,
            "flex": null,
            "_model_name": "LayoutModel",
            "justify_items": null,
            "grid_row": null,
            "max_height": null,
            "align_content": null,
            "visibility": null,
            "align_self": null,
            "height": null,
            "min_height": null,
            "padding": null,
            "grid_auto_rows": null,
            "grid_gap": null,
            "max_width": null,
            "order": null,
            "_view_module_version": "1.2.0",
            "grid_template_areas": null,
            "object_position": null,
            "object_fit": null,
            "grid_auto_columns": null,
            "margin": null,
            "display": null,
            "left": null
          }
        },
        "83ad797fdfb44d4491bcc10b99f8a0fe": {
          "model_module": "@jupyter-widgets/controls",
          "model_name": "RadioButtonsModel",
          "state": {
            "_options_labels": [
              "pepperoni",
              "pineapple",
              "anchovies",
              "spaghetti",
              "macaroni"
            ],
            "_view_name": "RadioButtonsView",
            "style": "IPY_MODEL_c8b46225bada47f1b7f5a82ef914c435",
            "_dom_classes": [],
            "description": "Pizza topping:",
            "_model_name": "RadioButtonsModel",
            "index": 4,
            "_view_module": "@jupyter-widgets/controls",
            "_model_module_version": "1.5.0",
            "_view_count": null,
            "disabled": false,
            "_view_module_version": "1.5.0",
            "description_tooltip": null,
            "_model_module": "@jupyter-widgets/controls",
            "layout": "IPY_MODEL_039c3822ed9d4b679950f006a349e780"
          }
        },
        "c8b46225bada47f1b7f5a82ef914c435": {
          "model_module": "@jupyter-widgets/controls",
          "model_name": "DescriptionStyleModel",
          "state": {
            "_view_name": "StyleView",
            "_model_name": "DescriptionStyleModel",
            "description_width": "",
            "_view_module": "@jupyter-widgets/base",
            "_model_module_version": "1.5.0",
            "_view_count": null,
            "_view_module_version": "1.2.0",
            "_model_module": "@jupyter-widgets/controls"
          }
        },
        "039c3822ed9d4b679950f006a349e780": {
          "model_module": "@jupyter-widgets/base",
          "model_name": "LayoutModel",
          "state": {
            "_view_name": "LayoutView",
            "grid_template_rows": null,
            "right": null,
            "justify_content": null,
            "_view_module": "@jupyter-widgets/base",
            "overflow": null,
            "_model_module_version": "1.2.0",
            "_view_count": null,
            "flex_flow": null,
            "width": null,
            "min_width": null,
            "border": null,
            "align_items": null,
            "bottom": null,
            "_model_module": "@jupyter-widgets/base",
            "top": null,
            "grid_column": null,
            "overflow_y": null,
            "overflow_x": null,
            "grid_auto_flow": null,
            "grid_area": null,
            "grid_template_columns": null,
            "flex": null,
            "_model_name": "LayoutModel",
            "justify_items": null,
            "grid_row": null,
            "max_height": null,
            "align_content": null,
            "visibility": null,
            "align_self": null,
            "height": null,
            "min_height": null,
            "padding": null,
            "grid_auto_rows": null,
            "grid_gap": null,
            "max_width": null,
            "order": null,
            "_view_module_version": "1.2.0",
            "grid_template_areas": null,
            "object_position": null,
            "object_fit": null,
            "grid_auto_columns": null,
            "margin": null,
            "display": null,
            "left": null
          }
        },
        "2835bf9697364900a395ad8ee169aea4": {
          "model_module": "@jupyter-widgets/controls",
          "model_name": "VBoxModel",
          "state": {
            "_view_name": "VBoxView",
            "_dom_classes": [
              "widget-interact"
            ],
            "_model_name": "VBoxModel",
            "_view_module": "@jupyter-widgets/controls",
            "_model_module_version": "1.5.0",
            "_view_count": null,
            "_view_module_version": "1.5.0",
            "box_style": "",
            "layout": "IPY_MODEL_6e749775ecbc46df94f011ea8d937121",
            "_model_module": "@jupyter-widgets/controls",
            "children": [
              "IPY_MODEL_17a6dd016a264af48d19c3395725c154",
              "IPY_MODEL_453e1187e7754be18cef1522c7bd34bc"
            ]
          }
        },
        "6e749775ecbc46df94f011ea8d937121": {
          "model_module": "@jupyter-widgets/base",
          "model_name": "LayoutModel",
          "state": {
            "_view_name": "LayoutView",
            "grid_template_rows": null,
            "right": null,
            "justify_content": null,
            "_view_module": "@jupyter-widgets/base",
            "overflow": null,
            "_model_module_version": "1.2.0",
            "_view_count": null,
            "flex_flow": null,
            "width": null,
            "min_width": null,
            "border": null,
            "align_items": null,
            "bottom": null,
            "_model_module": "@jupyter-widgets/base",
            "top": null,
            "grid_column": null,
            "overflow_y": null,
            "overflow_x": null,
            "grid_auto_flow": null,
            "grid_area": null,
            "grid_template_columns": null,
            "flex": null,
            "_model_name": "LayoutModel",
            "justify_items": null,
            "grid_row": null,
            "max_height": null,
            "align_content": null,
            "visibility": null,
            "align_self": null,
            "height": null,
            "min_height": null,
            "padding": null,
            "grid_auto_rows": null,
            "grid_gap": null,
            "max_width": null,
            "order": null,
            "_view_module_version": "1.2.0",
            "grid_template_areas": null,
            "object_position": null,
            "object_fit": null,
            "grid_auto_columns": null,
            "margin": null,
            "display": null,
            "left": null
          }
        },
        "17a6dd016a264af48d19c3395725c154": {
          "model_module": "@jupyter-widgets/controls",
          "model_name": "IntSliderModel",
          "state": {
            "_view_name": "IntSliderView",
            "style": "IPY_MODEL_f54d6712a87f45d0a9ff60bb07053615",
            "_dom_classes": [],
            "description": "x",
            "step": 1,
            "_model_name": "IntSliderModel",
            "orientation": "horizontal",
            "max": 30,
            "_view_module": "@jupyter-widgets/controls",
            "_model_module_version": "1.5.0",
            "value": 12,
            "_view_count": null,
            "disabled": false,
            "_view_module_version": "1.5.0",
            "min": -10,
            "continuous_update": true,
            "readout_format": "d",
            "description_tooltip": null,
            "readout": true,
            "_model_module": "@jupyter-widgets/controls",
            "layout": "IPY_MODEL_ee10173206f94184aaa7d4c6ab911869"
          }
        },
        "453e1187e7754be18cef1522c7bd34bc": {
          "model_module": "@jupyter-widgets/output",
          "model_name": "OutputModel",
          "state": {
            "_view_name": "OutputView",
            "msg_id": "",
            "_dom_classes": [],
            "_model_name": "OutputModel",
            "outputs": [
              {
                "output_type": "display_data",
                "metadata": {
                  "tags": []
                },
                "text/plain": "12"
              }
            ],
            "_view_module": "@jupyter-widgets/output",
            "_model_module_version": "1.0.0",
            "_view_count": null,
            "_view_module_version": "1.0.0",
            "layout": "IPY_MODEL_0632939e8694442a918995bf67445089",
            "_model_module": "@jupyter-widgets/output"
          }
        },
        "f54d6712a87f45d0a9ff60bb07053615": {
          "model_module": "@jupyter-widgets/controls",
          "model_name": "SliderStyleModel",
          "state": {
            "_view_name": "StyleView",
            "handle_color": null,
            "_model_name": "SliderStyleModel",
            "description_width": "",
            "_view_module": "@jupyter-widgets/base",
            "_model_module_version": "1.5.0",
            "_view_count": null,
            "_view_module_version": "1.2.0",
            "_model_module": "@jupyter-widgets/controls"
          }
        },
        "ee10173206f94184aaa7d4c6ab911869": {
          "model_module": "@jupyter-widgets/base",
          "model_name": "LayoutModel",
          "state": {
            "_view_name": "LayoutView",
            "grid_template_rows": null,
            "right": null,
            "justify_content": null,
            "_view_module": "@jupyter-widgets/base",
            "overflow": null,
            "_model_module_version": "1.2.0",
            "_view_count": null,
            "flex_flow": null,
            "width": null,
            "min_width": null,
            "border": null,
            "align_items": null,
            "bottom": null,
            "_model_module": "@jupyter-widgets/base",
            "top": null,
            "grid_column": null,
            "overflow_y": null,
            "overflow_x": null,
            "grid_auto_flow": null,
            "grid_area": null,
            "grid_template_columns": null,
            "flex": null,
            "_model_name": "LayoutModel",
            "justify_items": null,
            "grid_row": null,
            "max_height": null,
            "align_content": null,
            "visibility": null,
            "align_self": null,
            "height": null,
            "min_height": null,
            "padding": null,
            "grid_auto_rows": null,
            "grid_gap": null,
            "max_width": null,
            "order": null,
            "_view_module_version": "1.2.0",
            "grid_template_areas": null,
            "object_position": null,
            "object_fit": null,
            "grid_auto_columns": null,
            "margin": null,
            "display": null,
            "left": null
          }
        },
        "0632939e8694442a918995bf67445089": {
          "model_module": "@jupyter-widgets/base",
          "model_name": "LayoutModel",
          "state": {
            "_view_name": "LayoutView",
            "grid_template_rows": null,
            "right": null,
            "justify_content": null,
            "_view_module": "@jupyter-widgets/base",
            "overflow": null,
            "_model_module_version": "1.2.0",
            "_view_count": null,
            "flex_flow": null,
            "width": null,
            "min_width": null,
            "border": null,
            "align_items": null,
            "bottom": null,
            "_model_module": "@jupyter-widgets/base",
            "top": null,
            "grid_column": null,
            "overflow_y": null,
            "overflow_x": null,
            "grid_auto_flow": null,
            "grid_area": null,
            "grid_template_columns": null,
            "flex": null,
            "_model_name": "LayoutModel",
            "justify_items": null,
            "grid_row": null,
            "max_height": null,
            "align_content": null,
            "visibility": null,
            "align_self": null,
            "height": null,
            "min_height": null,
            "padding": null,
            "grid_auto_rows": null,
            "grid_gap": null,
            "max_width": null,
            "order": null,
            "_view_module_version": "1.2.0",
            "grid_template_areas": null,
            "object_position": null,
            "object_fit": null,
            "grid_auto_columns": null,
            "margin": null,
            "display": null,
            "left": null
          }
        },
        "41af4916e49f479bb337d38f27389416": {
          "model_module": "@jupyter-widgets/controls",
          "model_name": "VBoxModel",
          "state": {
            "_view_name": "VBoxView",
            "_dom_classes": [
              "widget-interact"
            ],
            "_model_name": "VBoxModel",
            "_view_module": "@jupyter-widgets/controls",
            "_model_module_version": "1.5.0",
            "_view_count": null,
            "_view_module_version": "1.5.0",
            "box_style": "",
            "layout": "IPY_MODEL_20c3a78695f2472db2827db0a134ca84",
            "_model_module": "@jupyter-widgets/controls",
            "children": [
              "IPY_MODEL_18ff20fc183a42f1a9318d18818774b1",
              "IPY_MODEL_41c3f8472c424ca380850e14c0553361"
            ]
          }
        },
        "20c3a78695f2472db2827db0a134ca84": {
          "model_module": "@jupyter-widgets/base",
          "model_name": "LayoutModel",
          "state": {
            "_view_name": "LayoutView",
            "grid_template_rows": null,
            "right": null,
            "justify_content": null,
            "_view_module": "@jupyter-widgets/base",
            "overflow": null,
            "_model_module_version": "1.2.0",
            "_view_count": null,
            "flex_flow": null,
            "width": null,
            "min_width": null,
            "border": null,
            "align_items": null,
            "bottom": null,
            "_model_module": "@jupyter-widgets/base",
            "top": null,
            "grid_column": null,
            "overflow_y": null,
            "overflow_x": null,
            "grid_auto_flow": null,
            "grid_area": null,
            "grid_template_columns": null,
            "flex": null,
            "_model_name": "LayoutModel",
            "justify_items": null,
            "grid_row": null,
            "max_height": null,
            "align_content": null,
            "visibility": null,
            "align_self": null,
            "height": null,
            "min_height": null,
            "padding": null,
            "grid_auto_rows": null,
            "grid_gap": null,
            "max_width": null,
            "order": null,
            "_view_module_version": "1.2.0",
            "grid_template_areas": null,
            "object_position": null,
            "object_fit": null,
            "grid_auto_columns": null,
            "margin": null,
            "display": null,
            "left": null
          }
        },
        "18ff20fc183a42f1a9318d18818774b1": {
          "model_module": "@jupyter-widgets/controls",
          "model_name": "CheckboxModel",
          "state": {
            "_view_name": "CheckboxView",
            "style": "IPY_MODEL_0b387e0843fa489993d2a175f08d10d3",
            "_dom_classes": [],
            "description": "x",
            "_model_name": "CheckboxModel",
            "_view_module": "@jupyter-widgets/controls",
            "_model_module_version": "1.5.0",
            "value": true,
            "_view_count": null,
            "disabled": false,
            "_view_module_version": "1.5.0",
            "indent": true,
            "description_tooltip": null,
            "_model_module": "@jupyter-widgets/controls",
            "layout": "IPY_MODEL_60c12522e29e438ea515a41c165a3bde"
          }
        },
        "41c3f8472c424ca380850e14c0553361": {
          "model_module": "@jupyter-widgets/output",
          "model_name": "OutputModel",
          "state": {
            "_view_name": "OutputView",
            "msg_id": "",
            "_dom_classes": [],
            "_model_name": "OutputModel",
            "outputs": [
              {
                "output_type": "display_data",
                "metadata": {
                  "tags": []
                },
                "text/plain": "True"
              }
            ],
            "_view_module": "@jupyter-widgets/output",
            "_model_module_version": "1.0.0",
            "_view_count": null,
            "_view_module_version": "1.0.0",
            "layout": "IPY_MODEL_5977a9f3999447958eab06188635a63e",
            "_model_module": "@jupyter-widgets/output"
          }
        },
        "0b387e0843fa489993d2a175f08d10d3": {
          "model_module": "@jupyter-widgets/controls",
          "model_name": "DescriptionStyleModel",
          "state": {
            "_view_name": "StyleView",
            "_model_name": "DescriptionStyleModel",
            "description_width": "",
            "_view_module": "@jupyter-widgets/base",
            "_model_module_version": "1.5.0",
            "_view_count": null,
            "_view_module_version": "1.2.0",
            "_model_module": "@jupyter-widgets/controls"
          }
        },
        "60c12522e29e438ea515a41c165a3bde": {
          "model_module": "@jupyter-widgets/base",
          "model_name": "LayoutModel",
          "state": {
            "_view_name": "LayoutView",
            "grid_template_rows": null,
            "right": null,
            "justify_content": null,
            "_view_module": "@jupyter-widgets/base",
            "overflow": null,
            "_model_module_version": "1.2.0",
            "_view_count": null,
            "flex_flow": null,
            "width": null,
            "min_width": null,
            "border": null,
            "align_items": null,
            "bottom": null,
            "_model_module": "@jupyter-widgets/base",
            "top": null,
            "grid_column": null,
            "overflow_y": null,
            "overflow_x": null,
            "grid_auto_flow": null,
            "grid_area": null,
            "grid_template_columns": null,
            "flex": null,
            "_model_name": "LayoutModel",
            "justify_items": null,
            "grid_row": null,
            "max_height": null,
            "align_content": null,
            "visibility": null,
            "align_self": null,
            "height": null,
            "min_height": null,
            "padding": null,
            "grid_auto_rows": null,
            "grid_gap": null,
            "max_width": null,
            "order": null,
            "_view_module_version": "1.2.0",
            "grid_template_areas": null,
            "object_position": null,
            "object_fit": null,
            "grid_auto_columns": null,
            "margin": null,
            "display": null,
            "left": null
          }
        },
        "5977a9f3999447958eab06188635a63e": {
          "model_module": "@jupyter-widgets/base",
          "model_name": "LayoutModel",
          "state": {
            "_view_name": "LayoutView",
            "grid_template_rows": null,
            "right": null,
            "justify_content": null,
            "_view_module": "@jupyter-widgets/base",
            "overflow": null,
            "_model_module_version": "1.2.0",
            "_view_count": null,
            "flex_flow": null,
            "width": null,
            "min_width": null,
            "border": null,
            "align_items": null,
            "bottom": null,
            "_model_module": "@jupyter-widgets/base",
            "top": null,
            "grid_column": null,
            "overflow_y": null,
            "overflow_x": null,
            "grid_auto_flow": null,
            "grid_area": null,
            "grid_template_columns": null,
            "flex": null,
            "_model_name": "LayoutModel",
            "justify_items": null,
            "grid_row": null,
            "max_height": null,
            "align_content": null,
            "visibility": null,
            "align_self": null,
            "height": null,
            "min_height": null,
            "padding": null,
            "grid_auto_rows": null,
            "grid_gap": null,
            "max_width": null,
            "order": null,
            "_view_module_version": "1.2.0",
            "grid_template_areas": null,
            "object_position": null,
            "object_fit": null,
            "grid_auto_columns": null,
            "margin": null,
            "display": null,
            "left": null
          }
        },
        "dd56508fc2e74d50af88b7aa2aed18a2": {
          "model_module": "@jupyter-widgets/controls",
          "model_name": "VBoxModel",
          "state": {
            "_view_name": "VBoxView",
            "_dom_classes": [
              "widget-interact"
            ],
            "_model_name": "VBoxModel",
            "_view_module": "@jupyter-widgets/controls",
            "_model_module_version": "1.5.0",
            "_view_count": null,
            "_view_module_version": "1.5.0",
            "box_style": "",
            "layout": "IPY_MODEL_a329ff4f53d140b4911ac2a6e6b5ae54",
            "_model_module": "@jupyter-widgets/controls",
            "children": [
              "IPY_MODEL_72340a506eae462cb7bba22ebb93235d",
              "IPY_MODEL_d1655fb2f2914ef5b9d1affa25a704b3"
            ]
          }
        },
        "a329ff4f53d140b4911ac2a6e6b5ae54": {
          "model_module": "@jupyter-widgets/base",
          "model_name": "LayoutModel",
          "state": {
            "_view_name": "LayoutView",
            "grid_template_rows": null,
            "right": null,
            "justify_content": null,
            "_view_module": "@jupyter-widgets/base",
            "overflow": null,
            "_model_module_version": "1.2.0",
            "_view_count": null,
            "flex_flow": null,
            "width": null,
            "min_width": null,
            "border": null,
            "align_items": null,
            "bottom": null,
            "_model_module": "@jupyter-widgets/base",
            "top": null,
            "grid_column": null,
            "overflow_y": null,
            "overflow_x": null,
            "grid_auto_flow": null,
            "grid_area": null,
            "grid_template_columns": null,
            "flex": null,
            "_model_name": "LayoutModel",
            "justify_items": null,
            "grid_row": null,
            "max_height": null,
            "align_content": null,
            "visibility": null,
            "align_self": null,
            "height": null,
            "min_height": null,
            "padding": null,
            "grid_auto_rows": null,
            "grid_gap": null,
            "max_width": null,
            "order": null,
            "_view_module_version": "1.2.0",
            "grid_template_areas": null,
            "object_position": null,
            "object_fit": null,
            "grid_auto_columns": null,
            "margin": null,
            "display": null,
            "left": null
          }
        },
        "72340a506eae462cb7bba22ebb93235d": {
          "model_module": "@jupyter-widgets/controls",
          "model_name": "TextModel",
          "state": {
            "_view_name": "TextView",
            "style": "IPY_MODEL_a4d8fae600c946358d5bae78c8a8b559",
            "_dom_classes": [],
            "description": "x",
            "_model_name": "TextModel",
            "placeholder": "​",
            "_view_module": "@jupyter-widgets/controls",
            "_model_module_version": "1.5.0",
            "value": "Hello Widgets",
            "_view_count": null,
            "disabled": false,
            "_view_module_version": "1.5.0",
            "continuous_update": true,
            "description_tooltip": null,
            "_model_module": "@jupyter-widgets/controls",
            "layout": "IPY_MODEL_ffd86bd990bb43b89c351c9658b1bf27"
          }
        },
        "d1655fb2f2914ef5b9d1affa25a704b3": {
          "model_module": "@jupyter-widgets/output",
          "model_name": "OutputModel",
          "state": {
            "_view_name": "OutputView",
            "msg_id": "",
            "_dom_classes": [],
            "_model_name": "OutputModel",
            "outputs": [
              {
                "output_type": "display_data",
                "metadata": {
                  "tags": []
                },
                "text/plain": "'Hello Widgets'"
              }
            ],
            "_view_module": "@jupyter-widgets/output",
            "_model_module_version": "1.0.0",
            "_view_count": null,
            "_view_module_version": "1.0.0",
            "layout": "IPY_MODEL_45fe59a33de74688a67445493809e53a",
            "_model_module": "@jupyter-widgets/output"
          }
        },
        "a4d8fae600c946358d5bae78c8a8b559": {
          "model_module": "@jupyter-widgets/controls",
          "model_name": "DescriptionStyleModel",
          "state": {
            "_view_name": "StyleView",
            "_model_name": "DescriptionStyleModel",
            "description_width": "",
            "_view_module": "@jupyter-widgets/base",
            "_model_module_version": "1.5.0",
            "_view_count": null,
            "_view_module_version": "1.2.0",
            "_model_module": "@jupyter-widgets/controls"
          }
        },
        "ffd86bd990bb43b89c351c9658b1bf27": {
          "model_module": "@jupyter-widgets/base",
          "model_name": "LayoutModel",
          "state": {
            "_view_name": "LayoutView",
            "grid_template_rows": null,
            "right": null,
            "justify_content": null,
            "_view_module": "@jupyter-widgets/base",
            "overflow": null,
            "_model_module_version": "1.2.0",
            "_view_count": null,
            "flex_flow": null,
            "width": null,
            "min_width": null,
            "border": null,
            "align_items": null,
            "bottom": null,
            "_model_module": "@jupyter-widgets/base",
            "top": null,
            "grid_column": null,
            "overflow_y": null,
            "overflow_x": null,
            "grid_auto_flow": null,
            "grid_area": null,
            "grid_template_columns": null,
            "flex": null,
            "_model_name": "LayoutModel",
            "justify_items": null,
            "grid_row": null,
            "max_height": null,
            "align_content": null,
            "visibility": null,
            "align_self": null,
            "height": null,
            "min_height": null,
            "padding": null,
            "grid_auto_rows": null,
            "grid_gap": null,
            "max_width": null,
            "order": null,
            "_view_module_version": "1.2.0",
            "grid_template_areas": null,
            "object_position": null,
            "object_fit": null,
            "grid_auto_columns": null,
            "margin": null,
            "display": null,
            "left": null
          }
        },
        "45fe59a33de74688a67445493809e53a": {
          "model_module": "@jupyter-widgets/base",
          "model_name": "LayoutModel",
          "state": {
            "_view_name": "LayoutView",
            "grid_template_rows": null,
            "right": null,
            "justify_content": null,
            "_view_module": "@jupyter-widgets/base",
            "overflow": null,
            "_model_module_version": "1.2.0",
            "_view_count": null,
            "flex_flow": null,
            "width": null,
            "min_width": null,
            "border": null,
            "align_items": null,
            "bottom": null,
            "_model_module": "@jupyter-widgets/base",
            "top": null,
            "grid_column": null,
            "overflow_y": null,
            "overflow_x": null,
            "grid_auto_flow": null,
            "grid_area": null,
            "grid_template_columns": null,
            "flex": null,
            "_model_name": "LayoutModel",
            "justify_items": null,
            "grid_row": null,
            "max_height": null,
            "align_content": null,
            "visibility": null,
            "align_self": null,
            "height": null,
            "min_height": null,
            "padding": null,
            "grid_auto_rows": null,
            "grid_gap": null,
            "max_width": null,
            "order": null,
            "_view_module_version": "1.2.0",
            "grid_template_areas": null,
            "object_position": null,
            "object_fit": null,
            "grid_auto_columns": null,
            "margin": null,
            "display": null,
            "left": null
          }
        },
        "a02072698e6b4152b3579f9430bcf58b": {
          "model_module": "@jupyter-widgets/controls",
          "model_name": "VBoxModel",
          "state": {
            "_view_name": "VBoxView",
            "_dom_classes": [
              "widget-interact"
            ],
            "_model_name": "VBoxModel",
            "_view_module": "@jupyter-widgets/controls",
            "_model_module_version": "1.5.0",
            "_view_count": null,
            "_view_module_version": "1.5.0",
            "box_style": "",
            "layout": "IPY_MODEL_57f05dac069045f99cbce7e0a0dd763c",
            "_model_module": "@jupyter-widgets/controls",
            "children": [
              "IPY_MODEL_3e35c337d53443ffa780bd217c161be0",
              "IPY_MODEL_ea7a8b21c08b432c8a76927b3f8dbdf4",
              "IPY_MODEL_ec0d6c5bc4f34a53bb413d5c79b91d06"
            ]
          }
        },
        "57f05dac069045f99cbce7e0a0dd763c": {
          "model_module": "@jupyter-widgets/base",
          "model_name": "LayoutModel",
          "state": {
            "_view_name": "LayoutView",
            "grid_template_rows": null,
            "right": null,
            "justify_content": null,
            "_view_module": "@jupyter-widgets/base",
            "overflow": null,
            "_model_module_version": "1.2.0",
            "_view_count": null,
            "flex_flow": null,
            "width": null,
            "min_width": null,
            "border": null,
            "align_items": null,
            "bottom": null,
            "_model_module": "@jupyter-widgets/base",
            "top": null,
            "grid_column": null,
            "overflow_y": null,
            "overflow_x": null,
            "grid_auto_flow": null,
            "grid_area": null,
            "grid_template_columns": null,
            "flex": null,
            "_model_name": "LayoutModel",
            "justify_items": null,
            "grid_row": null,
            "max_height": null,
            "align_content": null,
            "visibility": null,
            "align_self": null,
            "height": null,
            "min_height": null,
            "padding": null,
            "grid_auto_rows": null,
            "grid_gap": null,
            "max_width": null,
            "order": null,
            "_view_module_version": "1.2.0",
            "grid_template_areas": null,
            "object_position": null,
            "object_fit": null,
            "grid_auto_columns": null,
            "margin": null,
            "display": null,
            "left": null
          }
        },
        "3e35c337d53443ffa780bd217c161be0": {
          "model_module": "@jupyter-widgets/controls",
          "model_name": "CheckboxModel",
          "state": {
            "_view_name": "CheckboxView",
            "style": "IPY_MODEL_95a9bb1eae3e47e8ac1b5b70989da312",
            "_dom_classes": [],
            "description": "x",
            "_model_name": "CheckboxModel",
            "_view_module": "@jupyter-widgets/controls",
            "_model_module_version": "1.5.0",
            "value": true,
            "_view_count": null,
            "disabled": false,
            "_view_module_version": "1.5.0",
            "indent": true,
            "description_tooltip": null,
            "_model_module": "@jupyter-widgets/controls",
            "layout": "IPY_MODEL_3293613222ee4d16abf3692c9b6a05ee"
          }
        },
        "ea7a8b21c08b432c8a76927b3f8dbdf4": {
          "model_module": "@jupyter-widgets/controls",
          "model_name": "FloatSliderModel",
          "state": {
            "_view_name": "FloatSliderView",
            "style": "IPY_MODEL_ddbc6760bc714a6982a9321b2e7cc36b",
            "_dom_classes": [],
            "description": "y",
            "step": 0.1,
            "_model_name": "FloatSliderModel",
            "orientation": "horizontal",
            "max": 15,
            "_view_module": "@jupyter-widgets/controls",
            "_model_module_version": "1.5.0",
            "value": -2.6,
            "_view_count": null,
            "disabled": false,
            "_view_module_version": "1.5.0",
            "min": -5,
            "continuous_update": true,
            "readout_format": ".2f",
            "description_tooltip": null,
            "readout": true,
            "_model_module": "@jupyter-widgets/controls",
            "layout": "IPY_MODEL_91201913472f412782dbe678b6418802"
          }
        },
        "ec0d6c5bc4f34a53bb413d5c79b91d06": {
          "model_module": "@jupyter-widgets/output",
          "model_name": "OutputModel",
          "state": {
            "_view_name": "OutputView",
            "msg_id": "",
            "_dom_classes": [],
            "_model_name": "OutputModel",
            "outputs": [
              {
                "output_type": "display_data",
                "metadata": {
                  "tags": []
                },
                "text/plain": "(True, -2.6)"
              }
            ],
            "_view_module": "@jupyter-widgets/output",
            "_model_module_version": "1.0.0",
            "_view_count": null,
            "_view_module_version": "1.0.0",
            "layout": "IPY_MODEL_85d432dadbc749e2809b53e4edec88f6",
            "_model_module": "@jupyter-widgets/output"
          }
        },
        "95a9bb1eae3e47e8ac1b5b70989da312": {
          "model_module": "@jupyter-widgets/controls",
          "model_name": "DescriptionStyleModel",
          "state": {
            "_view_name": "StyleView",
            "_model_name": "DescriptionStyleModel",
            "description_width": "",
            "_view_module": "@jupyter-widgets/base",
            "_model_module_version": "1.5.0",
            "_view_count": null,
            "_view_module_version": "1.2.0",
            "_model_module": "@jupyter-widgets/controls"
          }
        },
        "3293613222ee4d16abf3692c9b6a05ee": {
          "model_module": "@jupyter-widgets/base",
          "model_name": "LayoutModel",
          "state": {
            "_view_name": "LayoutView",
            "grid_template_rows": null,
            "right": null,
            "justify_content": null,
            "_view_module": "@jupyter-widgets/base",
            "overflow": null,
            "_model_module_version": "1.2.0",
            "_view_count": null,
            "flex_flow": null,
            "width": null,
            "min_width": null,
            "border": null,
            "align_items": null,
            "bottom": null,
            "_model_module": "@jupyter-widgets/base",
            "top": null,
            "grid_column": null,
            "overflow_y": null,
            "overflow_x": null,
            "grid_auto_flow": null,
            "grid_area": null,
            "grid_template_columns": null,
            "flex": null,
            "_model_name": "LayoutModel",
            "justify_items": null,
            "grid_row": null,
            "max_height": null,
            "align_content": null,
            "visibility": null,
            "align_self": null,
            "height": null,
            "min_height": null,
            "padding": null,
            "grid_auto_rows": null,
            "grid_gap": null,
            "max_width": null,
            "order": null,
            "_view_module_version": "1.2.0",
            "grid_template_areas": null,
            "object_position": null,
            "object_fit": null,
            "grid_auto_columns": null,
            "margin": null,
            "display": null,
            "left": null
          }
        },
        "ddbc6760bc714a6982a9321b2e7cc36b": {
          "model_module": "@jupyter-widgets/controls",
          "model_name": "SliderStyleModel",
          "state": {
            "_view_name": "StyleView",
            "handle_color": null,
            "_model_name": "SliderStyleModel",
            "description_width": "",
            "_view_module": "@jupyter-widgets/base",
            "_model_module_version": "1.5.0",
            "_view_count": null,
            "_view_module_version": "1.2.0",
            "_model_module": "@jupyter-widgets/controls"
          }
        },
        "91201913472f412782dbe678b6418802": {
          "model_module": "@jupyter-widgets/base",
          "model_name": "LayoutModel",
          "state": {
            "_view_name": "LayoutView",
            "grid_template_rows": null,
            "right": null,
            "justify_content": null,
            "_view_module": "@jupyter-widgets/base",
            "overflow": null,
            "_model_module_version": "1.2.0",
            "_view_count": null,
            "flex_flow": null,
            "width": null,
            "min_width": null,
            "border": null,
            "align_items": null,
            "bottom": null,
            "_model_module": "@jupyter-widgets/base",
            "top": null,
            "grid_column": null,
            "overflow_y": null,
            "overflow_x": null,
            "grid_auto_flow": null,
            "grid_area": null,
            "grid_template_columns": null,
            "flex": null,
            "_model_name": "LayoutModel",
            "justify_items": null,
            "grid_row": null,
            "max_height": null,
            "align_content": null,
            "visibility": null,
            "align_self": null,
            "height": null,
            "min_height": null,
            "padding": null,
            "grid_auto_rows": null,
            "grid_gap": null,
            "max_width": null,
            "order": null,
            "_view_module_version": "1.2.0",
            "grid_template_areas": null,
            "object_position": null,
            "object_fit": null,
            "grid_auto_columns": null,
            "margin": null,
            "display": null,
            "left": null
          }
        },
        "85d432dadbc749e2809b53e4edec88f6": {
          "model_module": "@jupyter-widgets/base",
          "model_name": "LayoutModel",
          "state": {
            "_view_name": "LayoutView",
            "grid_template_rows": null,
            "right": null,
            "justify_content": null,
            "_view_module": "@jupyter-widgets/base",
            "overflow": null,
            "_model_module_version": "1.2.0",
            "_view_count": null,
            "flex_flow": null,
            "width": null,
            "min_width": null,
            "border": null,
            "align_items": null,
            "bottom": null,
            "_model_module": "@jupyter-widgets/base",
            "top": null,
            "grid_column": null,
            "overflow_y": null,
            "overflow_x": null,
            "grid_auto_flow": null,
            "grid_area": null,
            "grid_template_columns": null,
            "flex": null,
            "_model_name": "LayoutModel",
            "justify_items": null,
            "grid_row": null,
            "max_height": null,
            "align_content": null,
            "visibility": null,
            "align_self": null,
            "height": null,
            "min_height": null,
            "padding": null,
            "grid_auto_rows": null,
            "grid_gap": null,
            "max_width": null,
            "order": null,
            "_view_module_version": "1.2.0",
            "grid_template_areas": null,
            "object_position": null,
            "object_fit": null,
            "grid_auto_columns": null,
            "margin": null,
            "display": null,
            "left": null
          }
        },
        "bd883ff51dcf44c4ac90b688dc26fc1d": {
          "model_module": "@jupyter-widgets/controls",
          "model_name": "VBoxModel",
          "state": {
            "_view_name": "VBoxView",
            "_dom_classes": [
              "widget-interact"
            ],
            "_model_name": "VBoxModel",
            "_view_module": "@jupyter-widgets/controls",
            "_model_module_version": "1.5.0",
            "_view_count": null,
            "_view_module_version": "1.5.0",
            "box_style": "",
            "layout": "IPY_MODEL_cd51f64521364912a82e446902090dc4",
            "_model_module": "@jupyter-widgets/controls",
            "children": [
              "IPY_MODEL_11b7e2b45ab640d082634c627169b75a",
              "IPY_MODEL_a338f704d6684665ba8121682adce2ff"
            ]
          }
        },
        "cd51f64521364912a82e446902090dc4": {
          "model_module": "@jupyter-widgets/base",
          "model_name": "LayoutModel",
          "state": {
            "_view_name": "LayoutView",
            "grid_template_rows": null,
            "right": null,
            "justify_content": null,
            "_view_module": "@jupyter-widgets/base",
            "overflow": null,
            "_model_module_version": "1.2.0",
            "_view_count": null,
            "flex_flow": null,
            "width": null,
            "min_width": null,
            "border": null,
            "align_items": null,
            "bottom": null,
            "_model_module": "@jupyter-widgets/base",
            "top": null,
            "grid_column": null,
            "overflow_y": null,
            "overflow_x": null,
            "grid_auto_flow": null,
            "grid_area": null,
            "grid_template_columns": null,
            "flex": null,
            "_model_name": "LayoutModel",
            "justify_items": null,
            "grid_row": null,
            "max_height": null,
            "align_content": null,
            "visibility": null,
            "align_self": null,
            "height": null,
            "min_height": null,
            "padding": null,
            "grid_auto_rows": null,
            "grid_gap": null,
            "max_width": null,
            "order": null,
            "_view_module_version": "1.2.0",
            "grid_template_areas": null,
            "object_position": null,
            "object_fit": null,
            "grid_auto_columns": null,
            "margin": null,
            "display": null,
            "left": null
          }
        },
        "11b7e2b45ab640d082634c627169b75a": {
          "model_module": "@jupyter-widgets/controls",
          "model_name": "IntSliderModel",
          "state": {
            "_view_name": "IntSliderView",
            "style": "IPY_MODEL_a7df1aca77cb46aeae0a3b1389e315e6",
            "_dom_classes": [],
            "description": "p",
            "step": 1,
            "_model_name": "IntSliderModel",
            "orientation": "horizontal",
            "max": 15,
            "_view_module": "@jupyter-widgets/controls",
            "_model_module_version": "1.5.0",
            "value": 6,
            "_view_count": null,
            "disabled": false,
            "_view_module_version": "1.5.0",
            "min": -5,
            "continuous_update": true,
            "readout_format": "d",
            "description_tooltip": null,
            "readout": true,
            "_model_module": "@jupyter-widgets/controls",
            "layout": "IPY_MODEL_c60cb3674b76462a9bccc66c73fbed0a"
          }
        },
        "a338f704d6684665ba8121682adce2ff": {
          "model_module": "@jupyter-widgets/output",
          "model_name": "OutputModel",
          "state": {
            "_view_name": "OutputView",
            "msg_id": "",
            "_dom_classes": [],
            "_model_name": "OutputModel",
            "outputs": [
              {
                "output_type": "display_data",
                "metadata": {
                  "tags": []
                },
                "text/plain": "(6, 20)"
              }
            ],
            "_view_module": "@jupyter-widgets/output",
            "_model_module_version": "1.0.0",
            "_view_count": null,
            "_view_module_version": "1.0.0",
            "layout": "IPY_MODEL_3d30ff4b33a942598c58c1727065b943",
            "_model_module": "@jupyter-widgets/output"
          }
        },
        "a7df1aca77cb46aeae0a3b1389e315e6": {
          "model_module": "@jupyter-widgets/controls",
          "model_name": "SliderStyleModel",
          "state": {
            "_view_name": "StyleView",
            "handle_color": null,
            "_model_name": "SliderStyleModel",
            "description_width": "",
            "_view_module": "@jupyter-widgets/base",
            "_model_module_version": "1.5.0",
            "_view_count": null,
            "_view_module_version": "1.2.0",
            "_model_module": "@jupyter-widgets/controls"
          }
        },
        "c60cb3674b76462a9bccc66c73fbed0a": {
          "model_module": "@jupyter-widgets/base",
          "model_name": "LayoutModel",
          "state": {
            "_view_name": "LayoutView",
            "grid_template_rows": null,
            "right": null,
            "justify_content": null,
            "_view_module": "@jupyter-widgets/base",
            "overflow": null,
            "_model_module_version": "1.2.0",
            "_view_count": null,
            "flex_flow": null,
            "width": null,
            "min_width": null,
            "border": null,
            "align_items": null,
            "bottom": null,
            "_model_module": "@jupyter-widgets/base",
            "top": null,
            "grid_column": null,
            "overflow_y": null,
            "overflow_x": null,
            "grid_auto_flow": null,
            "grid_area": null,
            "grid_template_columns": null,
            "flex": null,
            "_model_name": "LayoutModel",
            "justify_items": null,
            "grid_row": null,
            "max_height": null,
            "align_content": null,
            "visibility": null,
            "align_self": null,
            "height": null,
            "min_height": null,
            "padding": null,
            "grid_auto_rows": null,
            "grid_gap": null,
            "max_width": null,
            "order": null,
            "_view_module_version": "1.2.0",
            "grid_template_areas": null,
            "object_position": null,
            "object_fit": null,
            "grid_auto_columns": null,
            "margin": null,
            "display": null,
            "left": null
          }
        },
        "3d30ff4b33a942598c58c1727065b943": {
          "model_module": "@jupyter-widgets/base",
          "model_name": "LayoutModel",
          "state": {
            "_view_name": "LayoutView",
            "grid_template_rows": null,
            "right": null,
            "justify_content": null,
            "_view_module": "@jupyter-widgets/base",
            "overflow": null,
            "_model_module_version": "1.2.0",
            "_view_count": null,
            "flex_flow": null,
            "width": null,
            "min_width": null,
            "border": null,
            "align_items": null,
            "bottom": null,
            "_model_module": "@jupyter-widgets/base",
            "top": null,
            "grid_column": null,
            "overflow_y": null,
            "overflow_x": null,
            "grid_auto_flow": null,
            "grid_area": null,
            "grid_template_columns": null,
            "flex": null,
            "_model_name": "LayoutModel",
            "justify_items": null,
            "grid_row": null,
            "max_height": null,
            "align_content": null,
            "visibility": null,
            "align_self": null,
            "height": null,
            "min_height": null,
            "padding": null,
            "grid_auto_rows": null,
            "grid_gap": null,
            "max_width": null,
            "order": null,
            "_view_module_version": "1.2.0",
            "grid_template_areas": null,
            "object_position": null,
            "object_fit": null,
            "grid_auto_columns": null,
            "margin": null,
            "display": null,
            "left": null
          }
        },
        "46cec678d3384fde809daf9f4372765d": {
          "model_module": "@jupyter-widgets/controls",
          "model_name": "TextModel",
          "state": {
            "_view_name": "TextView",
            "style": "IPY_MODEL_9fea71fbe687473b9e03ae60bbe1456e",
            "_dom_classes": [],
            "description": "",
            "_model_name": "TextModel",
            "placeholder": "​",
            "_view_module": "@jupyter-widgets/controls",
            "_model_module_version": "1.5.0",
            "value": "D<DCDSC",
            "_view_count": null,
            "disabled": false,
            "_view_module_version": "1.5.0",
            "continuous_update": true,
            "description_tooltip": null,
            "_model_module": "@jupyter-widgets/controls",
            "layout": "IPY_MODEL_ce41600bb711420bbda858ad6e7525c0"
          }
        },
        "9fea71fbe687473b9e03ae60bbe1456e": {
          "model_module": "@jupyter-widgets/controls",
          "model_name": "DescriptionStyleModel",
          "state": {
            "_view_name": "StyleView",
            "_model_name": "DescriptionStyleModel",
            "description_width": "",
            "_view_module": "@jupyter-widgets/base",
            "_model_module_version": "1.5.0",
            "_view_count": null,
            "_view_module_version": "1.2.0",
            "_model_module": "@jupyter-widgets/controls"
          }
        },
        "ce41600bb711420bbda858ad6e7525c0": {
          "model_module": "@jupyter-widgets/base",
          "model_name": "LayoutModel",
          "state": {
            "_view_name": "LayoutView",
            "grid_template_rows": null,
            "right": null,
            "justify_content": null,
            "_view_module": "@jupyter-widgets/base",
            "overflow": null,
            "_model_module_version": "1.2.0",
            "_view_count": null,
            "flex_flow": null,
            "width": null,
            "min_width": null,
            "border": null,
            "align_items": null,
            "bottom": null,
            "_model_module": "@jupyter-widgets/base",
            "top": null,
            "grid_column": null,
            "overflow_y": null,
            "overflow_x": null,
            "grid_auto_flow": null,
            "grid_area": null,
            "grid_template_columns": null,
            "flex": null,
            "_model_name": "LayoutModel",
            "justify_items": null,
            "grid_row": null,
            "max_height": null,
            "align_content": null,
            "visibility": null,
            "align_self": null,
            "height": null,
            "min_height": null,
            "padding": null,
            "grid_auto_rows": null,
            "grid_gap": null,
            "max_width": null,
            "order": null,
            "_view_module_version": "1.2.0",
            "grid_template_areas": null,
            "object_position": null,
            "object_fit": null,
            "grid_auto_columns": null,
            "margin": null,
            "display": null,
            "left": null
          }
        },
        "e49d4a74349643dc8e9d01ae12becc28": {
          "model_module": "@jupyter-widgets/controls",
          "model_name": "VBoxModel",
          "state": {
            "_view_name": "VBoxView",
            "_dom_classes": [
              "widget-interact"
            ],
            "_model_name": "VBoxModel",
            "_view_module": "@jupyter-widgets/controls",
            "_model_module_version": "1.5.0",
            "_view_count": null,
            "_view_module_version": "1.5.0",
            "box_style": "",
            "layout": "IPY_MODEL_60efb9c9fc854f339dee64653d8be806",
            "_model_module": "@jupyter-widgets/controls",
            "children": [
              "IPY_MODEL_962f9f4940dc4ea595a201df41ebfec5",
              "IPY_MODEL_010f2d082b7f4c7889ff5b4d5079dc09",
              "IPY_MODEL_7828f838e1d442edae56368a222aca2a"
            ]
          }
        },
        "60efb9c9fc854f339dee64653d8be806": {
          "model_module": "@jupyter-widgets/base",
          "model_name": "LayoutModel",
          "state": {
            "_view_name": "LayoutView",
            "grid_template_rows": null,
            "right": null,
            "justify_content": null,
            "_view_module": "@jupyter-widgets/base",
            "overflow": null,
            "_model_module_version": "1.2.0",
            "_view_count": null,
            "flex_flow": null,
            "width": null,
            "min_width": null,
            "border": null,
            "align_items": null,
            "bottom": null,
            "_model_module": "@jupyter-widgets/base",
            "top": null,
            "grid_column": null,
            "overflow_y": null,
            "overflow_x": null,
            "grid_auto_flow": null,
            "grid_area": null,
            "grid_template_columns": null,
            "flex": null,
            "_model_name": "LayoutModel",
            "justify_items": null,
            "grid_row": null,
            "max_height": null,
            "align_content": null,
            "visibility": null,
            "align_self": null,
            "height": null,
            "min_height": null,
            "padding": null,
            "grid_auto_rows": null,
            "grid_gap": null,
            "max_width": null,
            "order": null,
            "_view_module_version": "1.2.0",
            "grid_template_areas": null,
            "object_position": null,
            "object_fit": null,
            "grid_auto_columns": null,
            "margin": null,
            "display": null,
            "left": null
          }
        },
        "962f9f4940dc4ea595a201df41ebfec5": {
          "model_module": "@jupyter-widgets/controls",
          "model_name": "TextModel",
          "state": {
            "_view_name": "TextView",
            "style": "IPY_MODEL_a68a33a308bd4b59b6e87a251559481c",
            "_dom_classes": [],
            "description": "column",
            "_model_name": "TextModel",
            "placeholder": "​",
            "_view_module": "@jupyter-widgets/controls",
            "_model_module_version": "1.5.0",
            "value": "Age",
            "_view_count": null,
            "disabled": false,
            "_view_module_version": "1.5.0",
            "continuous_update": true,
            "description_tooltip": null,
            "_model_module": "@jupyter-widgets/controls",
            "layout": "IPY_MODEL_ac61659280754fefbc42eea8cb71d472"
          }
        },
        "010f2d082b7f4c7889ff5b4d5079dc09": {
          "model_module": "@jupyter-widgets/controls",
          "model_name": "IntSliderModel",
          "state": {
            "_view_name": "IntSliderView",
            "style": "IPY_MODEL_21f36378264e405780b716dc95b7c22e",
            "_dom_classes": [],
            "description": "x",
            "step": 1,
            "_model_name": "IntSliderModel",
            "orientation": "horizontal",
            "max": 75,
            "_view_module": "@jupyter-widgets/controls",
            "_model_module_version": "1.5.0",
            "value": 34,
            "_view_count": null,
            "disabled": false,
            "_view_module_version": "1.5.0",
            "min": -25,
            "continuous_update": true,
            "readout_format": "d",
            "description_tooltip": null,
            "readout": true,
            "_model_module": "@jupyter-widgets/controls",
            "layout": "IPY_MODEL_4b77a6f46bed44e0a4fcdde313a05725"
          }
        },
        "7828f838e1d442edae56368a222aca2a": {
          "model_module": "@jupyter-widgets/output",
          "model_name": "OutputModel",
          "state": {
            "_view_name": "OutputView",
            "msg_id": "",
            "_dom_classes": [],
            "_model_name": "OutputModel",
            "outputs": [
              {
                "output_type": "display_data",
                "metadata": {
                  "tags": []
                },
                "text/html": "<div>\n<style scoped>\n    .dataframe tbody tr th:only-of-type {\n        vertical-align: middle;\n    }\n\n    .dataframe tbody tr th {\n        vertical-align: top;\n    }\n\n    .dataframe thead th {\n        text-align: right;\n    }\n</style>\n<table border=\"1\" class=\"dataframe\">\n  <thead>\n    <tr style=\"text-align: right;\">\n      <th></th>\n      <th>Name</th>\n      <th>Team</th>\n      <th>Number</th>\n      <th>Position</th>\n      <th>Age</th>\n      <th>Height</th>\n      <th>Weight</th>\n      <th>College</th>\n      <th>Salary</th>\n    </tr>\n  </thead>\n  <tbody>\n    <tr>\n      <th>46</th>\n      <td>Elton Brand</td>\n      <td>Philadelphia 76ers</td>\n      <td>42.0</td>\n      <td>PF</td>\n      <td>37.0</td>\n      <td>6-9</td>\n      <td>254.0</td>\n      <td>Duke</td>\n      <td>NaN</td>\n    </tr>\n    <tr>\n      <th>72</th>\n      <td>Luis Scola</td>\n      <td>Toronto Raptors</td>\n      <td>4.0</td>\n      <td>PF</td>\n      <td>36.0</td>\n      <td>6-9</td>\n      <td>240.0</td>\n      <td>NaN</td>\n      <td>2900000.0</td>\n    </tr>\n    <tr>\n      <th>93</th>\n      <td>Jamal Crawford</td>\n      <td>Los Angeles Clippers</td>\n      <td>11.0</td>\n      <td>SG</td>\n      <td>36.0</td>\n      <td>6-5</td>\n      <td>195.0</td>\n      <td>Michigan</td>\n      <td>5675000.0</td>\n    </tr>\n    <tr>\n      <th>101</th>\n      <td>Paul Pierce</td>\n      <td>Los Angeles Clippers</td>\n      <td>34.0</td>\n      <td>SF</td>\n      <td>38.0</td>\n      <td>6-7</td>\n      <td>235.0</td>\n      <td>Kansas</td>\n      <td>3376000.0</td>\n    </tr>\n    <tr>\n      <th>102</th>\n      <td>Pablo Prigioni</td>\n      <td>Los Angeles Clippers</td>\n      <td>9.0</td>\n      <td>PG</td>\n      <td>39.0</td>\n      <td>6-3</td>\n      <td>185.0</td>\n      <td>NaN</td>\n      <td>947726.0</td>\n    </tr>\n    <tr>\n      <th>109</th>\n      <td>Kobe Bryant</td>\n      <td>Los Angeles Lakers</td>\n      <td>24.0</td>\n      <td>SF</td>\n      <td>37.0</td>\n      <td>6-6</td>\n      <td>212.0</td>\n      <td>NaN</td>\n      <td>25000000.0</td>\n    </tr>\n    <tr>\n      <th>119</th>\n      <td>Metta World Peace</td>\n      <td>Los Angeles Lakers</td>\n      <td>37.0</td>\n      <td>SF</td>\n      <td>36.0</td>\n      <td>6-7</td>\n      <td>260.0</td>\n      <td>St. John's</td>\n      <td>947276.0</td>\n    </tr>\n    <tr>\n      <th>139</th>\n      <td>Caron Butler</td>\n      <td>Sacramento Kings</td>\n      <td>31.0</td>\n      <td>SF</td>\n      <td>36.0</td>\n      <td>6-7</td>\n      <td>228.0</td>\n      <td>Connecticut</td>\n      <td>1449187.0</td>\n    </tr>\n    <tr>\n      <th>154</th>\n      <td>Mike Dunleavy</td>\n      <td>Chicago Bulls</td>\n      <td>34.0</td>\n      <td>SG</td>\n      <td>35.0</td>\n      <td>6-9</td>\n      <td>230.0</td>\n      <td>Duke</td>\n      <td>4500000.0</td>\n    </tr>\n    <tr>\n      <th>156</th>\n      <td>Pau Gasol</td>\n      <td>Chicago Bulls</td>\n      <td>16.0</td>\n      <td>C</td>\n      <td>35.0</td>\n      <td>7-0</td>\n      <td>250.0</td>\n      <td>NaN</td>\n      <td>7448760.0</td>\n    </tr>\n    <tr>\n      <th>170</th>\n      <td>Richard Jefferson</td>\n      <td>Cleveland Cavaliers</td>\n      <td>24.0</td>\n      <td>SF</td>\n      <td>35.0</td>\n      <td>6-7</td>\n      <td>233.0</td>\n      <td>Arizona</td>\n      <td>947276.0</td>\n    </tr>\n    <tr>\n      <th>171</th>\n      <td>Dahntay Jones</td>\n      <td>Cleveland Cavaliers</td>\n      <td>30.0</td>\n      <td>SG</td>\n      <td>35.0</td>\n      <td>6-6</td>\n      <td>225.0</td>\n      <td>Duke</td>\n      <td>NaN</td>\n    </tr>\n    <tr>\n      <th>172</th>\n      <td>James Jones</td>\n      <td>Cleveland Cavaliers</td>\n      <td>1.0</td>\n      <td>SG</td>\n      <td>35.0</td>\n      <td>6-8</td>\n      <td>218.0</td>\n      <td>Miami (FL)</td>\n      <td>947276.0</td>\n    </tr>\n    <tr>\n      <th>183</th>\n      <td>Steve Blake</td>\n      <td>Detroit Pistons</td>\n      <td>22.0</td>\n      <td>PG</td>\n      <td>36.0</td>\n      <td>6-3</td>\n      <td>172.0</td>\n      <td>Maryland</td>\n      <td>2170465.0</td>\n    </tr>\n    <tr>\n      <th>236</th>\n      <td>Dirk Nowitzki</td>\n      <td>Dallas Mavericks</td>\n      <td>41.0</td>\n      <td>PF</td>\n      <td>37.0</td>\n      <td>7-0</td>\n      <td>245.0</td>\n      <td>NaN</td>\n      <td>8333334.0</td>\n    </tr>\n    <tr>\n      <th>256</th>\n      <td>Jason Terry</td>\n      <td>Houston Rockets</td>\n      <td>31.0</td>\n      <td>SG</td>\n      <td>38.0</td>\n      <td>6-2</td>\n      <td>185.0</td>\n      <td>Arizona</td>\n      <td>947276.0</td>\n    </tr>\n    <tr>\n      <th>259</th>\n      <td>Chris Andersen</td>\n      <td>Memphis Grizzlies</td>\n      <td>7.0</td>\n      <td>PF</td>\n      <td>37.0</td>\n      <td>6-10</td>\n      <td>245.0</td>\n      <td>Blinn College</td>\n      <td>5000000.0</td>\n    </tr>\n    <tr>\n      <th>260</th>\n      <td>Matt Barnes</td>\n      <td>Memphis Grizzlies</td>\n      <td>22.0</td>\n      <td>SF</td>\n      <td>36.0</td>\n      <td>6-7</td>\n      <td>226.0</td>\n      <td>UCLA</td>\n      <td>3542500.0</td>\n    </tr>\n    <tr>\n      <th>261</th>\n      <td>Vince Carter</td>\n      <td>Memphis Grizzlies</td>\n      <td>15.0</td>\n      <td>SG</td>\n      <td>39.0</td>\n      <td>6-6</td>\n      <td>220.0</td>\n      <td>North Carolina</td>\n      <td>4088019.0</td>\n    </tr>\n    <tr>\n      <th>296</th>\n      <td>Matt Bonner</td>\n      <td>San Antonio Spurs</td>\n      <td>15.0</td>\n      <td>C</td>\n      <td>36.0</td>\n      <td>6-10</td>\n      <td>235.0</td>\n      <td>Florida</td>\n      <td>947276.0</td>\n    </tr>\n    <tr>\n      <th>298</th>\n      <td>Tim Duncan</td>\n      <td>San Antonio Spurs</td>\n      <td>21.0</td>\n      <td>C</td>\n      <td>40.0</td>\n      <td>6-11</td>\n      <td>250.0</td>\n      <td>Wake Forest</td>\n      <td>5250000.0</td>\n    </tr>\n    <tr>\n      <th>299</th>\n      <td>Manu Ginobili</td>\n      <td>San Antonio Spurs</td>\n      <td>20.0</td>\n      <td>SG</td>\n      <td>38.0</td>\n      <td>6-6</td>\n      <td>205.0</td>\n      <td>NaN</td>\n      <td>2814000.0</td>\n    </tr>\n    <tr>\n      <th>304</th>\n      <td>Andre Miller</td>\n      <td>San Antonio Spurs</td>\n      <td>24.0</td>\n      <td>PG</td>\n      <td>40.0</td>\n      <td>6-3</td>\n      <td>200.0</td>\n      <td>Utah</td>\n      <td>250750.0</td>\n    </tr>\n    <tr>\n      <th>308</th>\n      <td>David West</td>\n      <td>San Antonio Spurs</td>\n      <td>30.0</td>\n      <td>PF</td>\n      <td>35.0</td>\n      <td>6-9</td>\n      <td>250.0</td>\n      <td>Xavier</td>\n      <td>1499187.0</td>\n    </tr>\n    <tr>\n      <th>311</th>\n      <td>Kirk Hinrich</td>\n      <td>Atlanta Hawks</td>\n      <td>12.0</td>\n      <td>SG</td>\n      <td>35.0</td>\n      <td>6-4</td>\n      <td>190.0</td>\n      <td>Kansas</td>\n      <td>2854940.0</td>\n    </tr>\n    <tr>\n      <th>314</th>\n      <td>Kyle Korver</td>\n      <td>Atlanta Hawks</td>\n      <td>26.0</td>\n      <td>SG</td>\n      <td>35.0</td>\n      <td>6-7</td>\n      <td>212.0</td>\n      <td>Creighton</td>\n      <td>5746479.0</td>\n    </tr>\n    <tr>\n      <th>343</th>\n      <td>Udonis Haslem</td>\n      <td>Miami Heat</td>\n      <td>40.0</td>\n      <td>PF</td>\n      <td>36.0</td>\n      <td>6-8</td>\n      <td>235.0</td>\n      <td>Florida</td>\n      <td>2854940.0</td>\n    </tr>\n    <tr>\n      <th>392</th>\n      <td>Mike Miller</td>\n      <td>Denver Nuggets</td>\n      <td>3.0</td>\n      <td>SG</td>\n      <td>36.0</td>\n      <td>6-8</td>\n      <td>218.0</td>\n      <td>Florida</td>\n      <td>947276.0</td>\n    </tr>\n    <tr>\n      <th>400</th>\n      <td>Kevin Garnett</td>\n      <td>Minnesota Timberwolves</td>\n      <td>21.0</td>\n      <td>PF</td>\n      <td>40.0</td>\n      <td>6-11</td>\n      <td>240.0</td>\n      <td>NaN</td>\n      <td>8500000.0</td>\n    </tr>\n    <tr>\n      <th>406</th>\n      <td>Tayshaun Prince</td>\n      <td>Minnesota Timberwolves</td>\n      <td>12.0</td>\n      <td>SF</td>\n      <td>36.0</td>\n      <td>6-9</td>\n      <td>212.0</td>\n      <td>Kentucky</td>\n      <td>947276.0</td>\n    </tr>\n    <tr>\n      <th>413</th>\n      <td>Nick Collison</td>\n      <td>Oklahoma City Thunder</td>\n      <td>4.0</td>\n      <td>PF</td>\n      <td>35.0</td>\n      <td>6-10</td>\n      <td>255.0</td>\n      <td>Kansas</td>\n      <td>3750000.0</td>\n    </tr>\n    <tr>\n      <th>420</th>\n      <td>Nazr Mohammed</td>\n      <td>Oklahoma City Thunder</td>\n      <td>13.0</td>\n      <td>C</td>\n      <td>38.0</td>\n      <td>6-10</td>\n      <td>250.0</td>\n      <td>Kentucky</td>\n      <td>222888.0</td>\n    </tr>\n  </tbody>\n</table>\n</div>",
                "text/plain": "                  Name                    Team  ...         College      Salary\n46         Elton Brand      Philadelphia 76ers  ...            Duke         NaN\n72          Luis Scola         Toronto Raptors  ...             NaN   2900000.0\n93      Jamal Crawford    Los Angeles Clippers  ...        Michigan   5675000.0\n101        Paul Pierce    Los Angeles Clippers  ...          Kansas   3376000.0\n102     Pablo Prigioni    Los Angeles Clippers  ...             NaN    947726.0\n109        Kobe Bryant      Los Angeles Lakers  ...             NaN  25000000.0\n119  Metta World Peace      Los Angeles Lakers  ...      St. John's    947276.0\n139       Caron Butler        Sacramento Kings  ...     Connecticut   1449187.0\n154      Mike Dunleavy           Chicago Bulls  ...            Duke   4500000.0\n156          Pau Gasol           Chicago Bulls  ...             NaN   7448760.0\n170  Richard Jefferson     Cleveland Cavaliers  ...         Arizona    947276.0\n171      Dahntay Jones     Cleveland Cavaliers  ...            Duke         NaN\n172        James Jones     Cleveland Cavaliers  ...      Miami (FL)    947276.0\n183        Steve Blake         Detroit Pistons  ...        Maryland   2170465.0\n236      Dirk Nowitzki        Dallas Mavericks  ...             NaN   8333334.0\n256        Jason Terry         Houston Rockets  ...         Arizona    947276.0\n259     Chris Andersen       Memphis Grizzlies  ...   Blinn College   5000000.0\n260        Matt Barnes       Memphis Grizzlies  ...            UCLA   3542500.0\n261       Vince Carter       Memphis Grizzlies  ...  North Carolina   4088019.0\n296        Matt Bonner       San Antonio Spurs  ...         Florida    947276.0\n298         Tim Duncan       San Antonio Spurs  ...     Wake Forest   5250000.0\n299      Manu Ginobili       San Antonio Spurs  ...             NaN   2814000.0\n304       Andre Miller       San Antonio Spurs  ...            Utah    250750.0\n308         David West       San Antonio Spurs  ...          Xavier   1499187.0\n311       Kirk Hinrich           Atlanta Hawks  ...          Kansas   2854940.0\n314        Kyle Korver           Atlanta Hawks  ...       Creighton   5746479.0\n343      Udonis Haslem              Miami Heat  ...         Florida   2854940.0\n392        Mike Miller          Denver Nuggets  ...         Florida    947276.0\n400      Kevin Garnett  Minnesota Timberwolves  ...             NaN   8500000.0\n406    Tayshaun Prince  Minnesota Timberwolves  ...        Kentucky    947276.0\n413      Nick Collison   Oklahoma City Thunder  ...          Kansas   3750000.0\n420      Nazr Mohammed   Oklahoma City Thunder  ...        Kentucky    222888.0\n\n[32 rows x 9 columns]"
              }
            ],
            "_view_module": "@jupyter-widgets/output",
            "_model_module_version": "1.0.0",
            "_view_count": null,
            "_view_module_version": "1.0.0",
            "layout": "IPY_MODEL_86f1fefcc7e64747a3217ff03834bd3d",
            "_model_module": "@jupyter-widgets/output"
          }
        },
        "a68a33a308bd4b59b6e87a251559481c": {
          "model_module": "@jupyter-widgets/controls",
          "model_name": "DescriptionStyleModel",
          "state": {
            "_view_name": "StyleView",
            "_model_name": "DescriptionStyleModel",
            "description_width": "",
            "_view_module": "@jupyter-widgets/base",
            "_model_module_version": "1.5.0",
            "_view_count": null,
            "_view_module_version": "1.2.0",
            "_model_module": "@jupyter-widgets/controls"
          }
        },
        "ac61659280754fefbc42eea8cb71d472": {
          "model_module": "@jupyter-widgets/base",
          "model_name": "LayoutModel",
          "state": {
            "_view_name": "LayoutView",
            "grid_template_rows": null,
            "right": null,
            "justify_content": null,
            "_view_module": "@jupyter-widgets/base",
            "overflow": null,
            "_model_module_version": "1.2.0",
            "_view_count": null,
            "flex_flow": null,
            "width": null,
            "min_width": null,
            "border": null,
            "align_items": null,
            "bottom": null,
            "_model_module": "@jupyter-widgets/base",
            "top": null,
            "grid_column": null,
            "overflow_y": null,
            "overflow_x": null,
            "grid_auto_flow": null,
            "grid_area": null,
            "grid_template_columns": null,
            "flex": null,
            "_model_name": "LayoutModel",
            "justify_items": null,
            "grid_row": null,
            "max_height": null,
            "align_content": null,
            "visibility": null,
            "align_self": null,
            "height": null,
            "min_height": null,
            "padding": null,
            "grid_auto_rows": null,
            "grid_gap": null,
            "max_width": null,
            "order": null,
            "_view_module_version": "1.2.0",
            "grid_template_areas": null,
            "object_position": null,
            "object_fit": null,
            "grid_auto_columns": null,
            "margin": null,
            "display": null,
            "left": null
          }
        },
        "21f36378264e405780b716dc95b7c22e": {
          "model_module": "@jupyter-widgets/controls",
          "model_name": "SliderStyleModel",
          "state": {
            "_view_name": "StyleView",
            "handle_color": null,
            "_model_name": "SliderStyleModel",
            "description_width": "",
            "_view_module": "@jupyter-widgets/base",
            "_model_module_version": "1.5.0",
            "_view_count": null,
            "_view_module_version": "1.2.0",
            "_model_module": "@jupyter-widgets/controls"
          }
        },
        "4b77a6f46bed44e0a4fcdde313a05725": {
          "model_module": "@jupyter-widgets/base",
          "model_name": "LayoutModel",
          "state": {
            "_view_name": "LayoutView",
            "grid_template_rows": null,
            "right": null,
            "justify_content": null,
            "_view_module": "@jupyter-widgets/base",
            "overflow": null,
            "_model_module_version": "1.2.0",
            "_view_count": null,
            "flex_flow": null,
            "width": null,
            "min_width": null,
            "border": null,
            "align_items": null,
            "bottom": null,
            "_model_module": "@jupyter-widgets/base",
            "top": null,
            "grid_column": null,
            "overflow_y": null,
            "overflow_x": null,
            "grid_auto_flow": null,
            "grid_area": null,
            "grid_template_columns": null,
            "flex": null,
            "_model_name": "LayoutModel",
            "justify_items": null,
            "grid_row": null,
            "max_height": null,
            "align_content": null,
            "visibility": null,
            "align_self": null,
            "height": null,
            "min_height": null,
            "padding": null,
            "grid_auto_rows": null,
            "grid_gap": null,
            "max_width": null,
            "order": null,
            "_view_module_version": "1.2.0",
            "grid_template_areas": null,
            "object_position": null,
            "object_fit": null,
            "grid_auto_columns": null,
            "margin": null,
            "display": null,
            "left": null
          }
        },
        "86f1fefcc7e64747a3217ff03834bd3d": {
          "model_module": "@jupyter-widgets/base",
          "model_name": "LayoutModel",
          "state": {
            "_view_name": "LayoutView",
            "grid_template_rows": null,
            "right": null,
            "justify_content": null,
            "_view_module": "@jupyter-widgets/base",
            "overflow": null,
            "_model_module_version": "1.2.0",
            "_view_count": null,
            "flex_flow": null,
            "width": null,
            "min_width": null,
            "border": null,
            "align_items": null,
            "bottom": null,
            "_model_module": "@jupyter-widgets/base",
            "top": null,
            "grid_column": null,
            "overflow_y": null,
            "overflow_x": null,
            "grid_auto_flow": null,
            "grid_area": null,
            "grid_template_columns": null,
            "flex": null,
            "_model_name": "LayoutModel",
            "justify_items": null,
            "grid_row": null,
            "max_height": null,
            "align_content": null,
            "visibility": null,
            "align_self": null,
            "height": null,
            "min_height": null,
            "padding": null,
            "grid_auto_rows": null,
            "grid_gap": null,
            "max_width": null,
            "order": null,
            "_view_module_version": "1.2.0",
            "grid_template_areas": null,
            "object_position": null,
            "object_fit": null,
            "grid_auto_columns": null,
            "margin": null,
            "display": null,
            "left": null
          }
        }
      }
    }
  },
  "cells": [
    {
      "cell_type": "markdown",
      "metadata": {
        "id": "view-in-github",
        "colab_type": "text"
      },
      "source": [
        "<a href=\"https://colab.research.google.com/github/gzmlab/github-essentials/blob/master/Library_Analyse_Dataset.ipynb\" target=\"_parent\"><img src=\"https://colab.research.google.com/assets/colab-badge.svg\" alt=\"Open In Colab\"/></a>"
      ]
    },
    {
      "cell_type": "markdown",
      "metadata": {
        "id": "BJSINDfvL4-2",
        "colab_type": "text"
      },
      "source": [
        "Original source: https://towardsdatascience.com/exploratory-data-analysis-with-pandas-and-jupyter-notebooks-36008090d813"
      ]
    },
    {
      "cell_type": "code",
      "metadata": {
        "id": "oMFRixUrtyLF",
        "colab_type": "code",
        "outputId": "fdd4bc13-7d98-49a7-db5b-599f0bcf85ea",
        "colab": {
          "base_uri": "https://localhost:8080/",
          "height": 71
        }
      },
      "source": [
        "import pandas as pd\n",
        "\n",
        "from google.colab import drive\n",
        "drive.mount('/content/gdrive')\n",
        "df = pd.read_csv('/content/gdrive/My Drive/00-Data Scientist and ML Engineer/TWDS-Exploratory Data Analysis with Pandas using Jupyter Notebooks/random_people.csv')\n",
        "\n",
        "nRow, nCol = df.shape\n",
        "print(f'There are {nRow} rows and {nCol} columns')"
      ],
      "execution_count": 0,
      "outputs": [
        {
          "output_type": "stream",
          "text": [
            "Drive already mounted at /content/gdrive; to attempt to forcibly remount, call drive.mount(\"/content/gdrive\", force_remount=True).\n",
            "There are 350 rows and 4 columns\n"
          ],
          "name": "stdout"
        }
      ]
    },
    {
      "cell_type": "code",
      "metadata": {
        "id": "OZXwmQ5rtyLM",
        "colab_type": "code",
        "outputId": "3cf92bbe-8b20-4ce0-b28a-f9bf092fb419",
        "colab": {
          "base_uri": "https://localhost:8080/",
          "height": 359
        }
      },
      "source": [
        "#start getting a feel of the data\n",
        "df.head(10)"
      ],
      "execution_count": 0,
      "outputs": [
        {
          "output_type": "execute_result",
          "data": {
            "text/html": [
              "<div>\n",
              "<style scoped>\n",
              "    .dataframe tbody tr th:only-of-type {\n",
              "        vertical-align: middle;\n",
              "    }\n",
              "\n",
              "    .dataframe tbody tr th {\n",
              "        vertical-align: top;\n",
              "    }\n",
              "\n",
              "    .dataframe thead th {\n",
              "        text-align: right;\n",
              "    }\n",
              "</style>\n",
              "<table border=\"1\" class=\"dataframe\">\n",
              "  <thead>\n",
              "    <tr style=\"text-align: right;\">\n",
              "      <th></th>\n",
              "      <th>Unnamed: 0</th>\n",
              "      <th>name</th>\n",
              "      <th>surname</th>\n",
              "      <th>salary</th>\n",
              "    </tr>\n",
              "  </thead>\n",
              "  <tbody>\n",
              "    <tr>\n",
              "      <th>0</th>\n",
              "      <td>0</td>\n",
              "      <td>John</td>\n",
              "      <td>Green</td>\n",
              "      <td>6500</td>\n",
              "    </tr>\n",
              "    <tr>\n",
              "      <th>1</th>\n",
              "      <td>1</td>\n",
              "      <td>Albert</td>\n",
              "      <td>Joneson</td>\n",
              "      <td>14500</td>\n",
              "    </tr>\n",
              "    <tr>\n",
              "      <th>2</th>\n",
              "      <td>2</td>\n",
              "      <td>Richard</td>\n",
              "      <td>Black</td>\n",
              "      <td>12000</td>\n",
              "    </tr>\n",
              "    <tr>\n",
              "      <th>3</th>\n",
              "      <td>3</td>\n",
              "      <td>William</td>\n",
              "      <td>Green</td>\n",
              "      <td>8000</td>\n",
              "    </tr>\n",
              "    <tr>\n",
              "      <th>4</th>\n",
              "      <td>4</td>\n",
              "      <td>Richard</td>\n",
              "      <td>Green</td>\n",
              "      <td>8000</td>\n",
              "    </tr>\n",
              "    <tr>\n",
              "      <th>5</th>\n",
              "      <td>5</td>\n",
              "      <td>Henry</td>\n",
              "      <td>Joneson</td>\n",
              "      <td>8000</td>\n",
              "    </tr>\n",
              "    <tr>\n",
              "      <th>6</th>\n",
              "      <td>6</td>\n",
              "      <td>John</td>\n",
              "      <td>Black</td>\n",
              "      <td>12500</td>\n",
              "    </tr>\n",
              "    <tr>\n",
              "      <th>7</th>\n",
              "      <td>7</td>\n",
              "      <td>Richard</td>\n",
              "      <td>White</td>\n",
              "      <td>8000</td>\n",
              "    </tr>\n",
              "    <tr>\n",
              "      <th>8</th>\n",
              "      <td>8</td>\n",
              "      <td>William</td>\n",
              "      <td>Green</td>\n",
              "      <td>14500</td>\n",
              "    </tr>\n",
              "    <tr>\n",
              "      <th>9</th>\n",
              "      <td>9</td>\n",
              "      <td>Richard</td>\n",
              "      <td>Black</td>\n",
              "      <td>10000</td>\n",
              "    </tr>\n",
              "  </tbody>\n",
              "</table>\n",
              "</div>"
            ],
            "text/plain": [
              "   Unnamed: 0     name  surname  salary\n",
              "0           0     John    Green    6500\n",
              "1           1   Albert  Joneson   14500\n",
              "2           2  Richard    Black   12000\n",
              "3           3  William    Green    8000\n",
              "4           4  Richard    Green    8000\n",
              "5           5    Henry  Joneson    8000\n",
              "6           6     John    Black   12500\n",
              "7           7  Richard    White    8000\n",
              "8           8  William    Green   14500\n",
              "9           9  Richard    Black   10000"
            ]
          },
          "metadata": {
            "tags": []
          },
          "execution_count": 14
        }
      ]
    },
    {
      "cell_type": "code",
      "metadata": {
        "id": "Z1e2IM_ytyLS",
        "colab_type": "code",
        "outputId": "926f1d43-18fc-4dc5-cfed-9b04ea85b8f4",
        "colab": {
          "base_uri": "https://localhost:8080/",
          "height": 170
        }
      },
      "source": [
        "df['salary'].value_counts()"
      ],
      "execution_count": 0,
      "outputs": [
        {
          "output_type": "execute_result",
          "data": {
            "text/plain": [
              "14500    74\n",
              "8000     65\n",
              "6500     45\n",
              "10500    35\n",
              "6000     34\n",
              "12500    34\n",
              "10000    33\n",
              "12000    30\n",
              "Name: salary, dtype: int64"
            ]
          },
          "metadata": {
            "tags": []
          },
          "execution_count": 15
        }
      ]
    },
    {
      "cell_type": "code",
      "metadata": {
        "id": "g846IjuktyLY",
        "colab_type": "code",
        "outputId": "fb0ebede-c113-4a1b-81c7-23f73dbe77e1",
        "colab": {
          "base_uri": "https://localhost:8080/",
          "height": 34
        }
      },
      "source": [
        "df['salary'].median()"
      ],
      "execution_count": 0,
      "outputs": [
        {
          "output_type": "execute_result",
          "data": {
            "text/plain": [
              "10000.0"
            ]
          },
          "metadata": {
            "tags": []
          },
          "execution_count": 16
        }
      ]
    },
    {
      "cell_type": "code",
      "metadata": {
        "id": "QeLx-Bt6tyLd",
        "colab_type": "code",
        "colab": {}
      },
      "source": [
        "df[\"salary_after_tax\"] = df[\"salary\"]*.8"
      ],
      "execution_count": 0,
      "outputs": []
    },
    {
      "cell_type": "code",
      "metadata": {
        "id": "CVmu2aA8tyLi",
        "colab_type": "code",
        "colab": {}
      },
      "source": [
        "def tax(s):\n",
        "    if s>=6000:\n",
        "        return s*.7\n",
        "    else:\n",
        "        return s*.85"
      ],
      "execution_count": 0,
      "outputs": []
    },
    {
      "cell_type": "code",
      "metadata": {
        "id": "oNAY_e0xtyLn",
        "colab_type": "code",
        "colab": {}
      },
      "source": [
        "df[\"salary_after_tax\"] = df[\"salary\"].apply(tax)"
      ],
      "execution_count": 0,
      "outputs": []
    },
    {
      "cell_type": "code",
      "metadata": {
        "id": "Q_3M2EqltyLw",
        "colab_type": "code",
        "outputId": "58ccec7b-c6c7-4a44-fd82-11669c6615c8",
        "colab": {
          "base_uri": "https://localhost:8080/",
          "height": 359
        }
      },
      "source": [
        "df.head(10)"
      ],
      "execution_count": 0,
      "outputs": [
        {
          "output_type": "execute_result",
          "data": {
            "text/html": [
              "<div>\n",
              "<style scoped>\n",
              "    .dataframe tbody tr th:only-of-type {\n",
              "        vertical-align: middle;\n",
              "    }\n",
              "\n",
              "    .dataframe tbody tr th {\n",
              "        vertical-align: top;\n",
              "    }\n",
              "\n",
              "    .dataframe thead th {\n",
              "        text-align: right;\n",
              "    }\n",
              "</style>\n",
              "<table border=\"1\" class=\"dataframe\">\n",
              "  <thead>\n",
              "    <tr style=\"text-align: right;\">\n",
              "      <th></th>\n",
              "      <th>Unnamed: 0</th>\n",
              "      <th>name</th>\n",
              "      <th>surname</th>\n",
              "      <th>salary</th>\n",
              "      <th>salary_after_tax</th>\n",
              "    </tr>\n",
              "  </thead>\n",
              "  <tbody>\n",
              "    <tr>\n",
              "      <th>0</th>\n",
              "      <td>0</td>\n",
              "      <td>John</td>\n",
              "      <td>Green</td>\n",
              "      <td>6500</td>\n",
              "      <td>4550.0</td>\n",
              "    </tr>\n",
              "    <tr>\n",
              "      <th>1</th>\n",
              "      <td>1</td>\n",
              "      <td>Albert</td>\n",
              "      <td>Joneson</td>\n",
              "      <td>14500</td>\n",
              "      <td>10150.0</td>\n",
              "    </tr>\n",
              "    <tr>\n",
              "      <th>2</th>\n",
              "      <td>2</td>\n",
              "      <td>Richard</td>\n",
              "      <td>Black</td>\n",
              "      <td>12000</td>\n",
              "      <td>8400.0</td>\n",
              "    </tr>\n",
              "    <tr>\n",
              "      <th>3</th>\n",
              "      <td>3</td>\n",
              "      <td>William</td>\n",
              "      <td>Green</td>\n",
              "      <td>8000</td>\n",
              "      <td>5600.0</td>\n",
              "    </tr>\n",
              "    <tr>\n",
              "      <th>4</th>\n",
              "      <td>4</td>\n",
              "      <td>Richard</td>\n",
              "      <td>Green</td>\n",
              "      <td>8000</td>\n",
              "      <td>5600.0</td>\n",
              "    </tr>\n",
              "    <tr>\n",
              "      <th>5</th>\n",
              "      <td>5</td>\n",
              "      <td>Henry</td>\n",
              "      <td>Joneson</td>\n",
              "      <td>8000</td>\n",
              "      <td>5600.0</td>\n",
              "    </tr>\n",
              "    <tr>\n",
              "      <th>6</th>\n",
              "      <td>6</td>\n",
              "      <td>John</td>\n",
              "      <td>Black</td>\n",
              "      <td>12500</td>\n",
              "      <td>8750.0</td>\n",
              "    </tr>\n",
              "    <tr>\n",
              "      <th>7</th>\n",
              "      <td>7</td>\n",
              "      <td>Richard</td>\n",
              "      <td>White</td>\n",
              "      <td>8000</td>\n",
              "      <td>5600.0</td>\n",
              "    </tr>\n",
              "    <tr>\n",
              "      <th>8</th>\n",
              "      <td>8</td>\n",
              "      <td>William</td>\n",
              "      <td>Green</td>\n",
              "      <td>14500</td>\n",
              "      <td>10150.0</td>\n",
              "    </tr>\n",
              "    <tr>\n",
              "      <th>9</th>\n",
              "      <td>9</td>\n",
              "      <td>Richard</td>\n",
              "      <td>Black</td>\n",
              "      <td>10000</td>\n",
              "      <td>7000.0</td>\n",
              "    </tr>\n",
              "  </tbody>\n",
              "</table>\n",
              "</div>"
            ],
            "text/plain": [
              "   Unnamed: 0     name  surname  salary  salary_after_tax\n",
              "0           0     John    Green    6500            4550.0\n",
              "1           1   Albert  Joneson   14500           10150.0\n",
              "2           2  Richard    Black   12000            8400.0\n",
              "3           3  William    Green    8000            5600.0\n",
              "4           4  Richard    Green    8000            5600.0\n",
              "5           5    Henry  Joneson    8000            5600.0\n",
              "6           6     John    Black   12500            8750.0\n",
              "7           7  Richard    White    8000            5600.0\n",
              "8           8  William    Green   14500           10150.0\n",
              "9           9  Richard    Black   10000            7000.0"
            ]
          },
          "metadata": {
            "tags": []
          },
          "execution_count": 20
        }
      ]
    },
    {
      "cell_type": "code",
      "metadata": {
        "id": "DvUo_-fFtyLz",
        "colab_type": "code",
        "colab": {}
      },
      "source": [
        "df_low = df[df[\"salary\"]<=6500]\n",
        "df_high = df[df[\"salary\"]>6500]"
      ],
      "execution_count": 0,
      "outputs": []
    },
    {
      "cell_type": "code",
      "metadata": {
        "id": "3MXiEbfZP6B8",
        "colab_type": "code",
        "outputId": "3e0cd836-3418-4ee7-a8a9-306b7d34e79d",
        "colab": {
          "base_uri": "https://localhost:8080/",
          "height": 359
        }
      },
      "source": [
        "df_low.head(10)"
      ],
      "execution_count": 0,
      "outputs": [
        {
          "output_type": "execute_result",
          "data": {
            "text/html": [
              "<div>\n",
              "<style scoped>\n",
              "    .dataframe tbody tr th:only-of-type {\n",
              "        vertical-align: middle;\n",
              "    }\n",
              "\n",
              "    .dataframe tbody tr th {\n",
              "        vertical-align: top;\n",
              "    }\n",
              "\n",
              "    .dataframe thead th {\n",
              "        text-align: right;\n",
              "    }\n",
              "</style>\n",
              "<table border=\"1\" class=\"dataframe\">\n",
              "  <thead>\n",
              "    <tr style=\"text-align: right;\">\n",
              "      <th></th>\n",
              "      <th>Unnamed: 0</th>\n",
              "      <th>name</th>\n",
              "      <th>surname</th>\n",
              "      <th>salary</th>\n",
              "      <th>salary_after_tax</th>\n",
              "    </tr>\n",
              "  </thead>\n",
              "  <tbody>\n",
              "    <tr>\n",
              "      <th>0</th>\n",
              "      <td>0</td>\n",
              "      <td>John</td>\n",
              "      <td>Green</td>\n",
              "      <td>6500</td>\n",
              "      <td>4550.0</td>\n",
              "    </tr>\n",
              "    <tr>\n",
              "      <th>10</th>\n",
              "      <td>10</td>\n",
              "      <td>Albert</td>\n",
              "      <td>Green</td>\n",
              "      <td>6500</td>\n",
              "      <td>4550.0</td>\n",
              "    </tr>\n",
              "    <tr>\n",
              "      <th>23</th>\n",
              "      <td>23</td>\n",
              "      <td>Henry</td>\n",
              "      <td>White</td>\n",
              "      <td>6500</td>\n",
              "      <td>4550.0</td>\n",
              "    </tr>\n",
              "    <tr>\n",
              "      <th>29</th>\n",
              "      <td>29</td>\n",
              "      <td>Richard</td>\n",
              "      <td>Goodman</td>\n",
              "      <td>6000</td>\n",
              "      <td>4200.0</td>\n",
              "    </tr>\n",
              "    <tr>\n",
              "      <th>39</th>\n",
              "      <td>39</td>\n",
              "      <td>Albert</td>\n",
              "      <td>Black</td>\n",
              "      <td>6500</td>\n",
              "      <td>4550.0</td>\n",
              "    </tr>\n",
              "    <tr>\n",
              "      <th>45</th>\n",
              "      <td>45</td>\n",
              "      <td>Henry</td>\n",
              "      <td>Joneson</td>\n",
              "      <td>6500</td>\n",
              "      <td>4550.0</td>\n",
              "    </tr>\n",
              "    <tr>\n",
              "      <th>47</th>\n",
              "      <td>47</td>\n",
              "      <td>Richard</td>\n",
              "      <td>Green</td>\n",
              "      <td>6500</td>\n",
              "      <td>4550.0</td>\n",
              "    </tr>\n",
              "    <tr>\n",
              "      <th>48</th>\n",
              "      <td>48</td>\n",
              "      <td>Richard</td>\n",
              "      <td>Black</td>\n",
              "      <td>6500</td>\n",
              "      <td>4550.0</td>\n",
              "    </tr>\n",
              "    <tr>\n",
              "      <th>52</th>\n",
              "      <td>52</td>\n",
              "      <td>Henry</td>\n",
              "      <td>White</td>\n",
              "      <td>6500</td>\n",
              "      <td>4550.0</td>\n",
              "    </tr>\n",
              "    <tr>\n",
              "      <th>58</th>\n",
              "      <td>58</td>\n",
              "      <td>Henry</td>\n",
              "      <td>Black</td>\n",
              "      <td>6500</td>\n",
              "      <td>4550.0</td>\n",
              "    </tr>\n",
              "  </tbody>\n",
              "</table>\n",
              "</div>"
            ],
            "text/plain": [
              "    Unnamed: 0     name  surname  salary  salary_after_tax\n",
              "0            0     John    Green    6500            4550.0\n",
              "10          10   Albert    Green    6500            4550.0\n",
              "23          23    Henry    White    6500            4550.0\n",
              "29          29  Richard  Goodman    6000            4200.0\n",
              "39          39   Albert    Black    6500            4550.0\n",
              "45          45    Henry  Joneson    6500            4550.0\n",
              "47          47  Richard    Green    6500            4550.0\n",
              "48          48  Richard    Black    6500            4550.0\n",
              "52          52    Henry    White    6500            4550.0\n",
              "58          58    Henry    Black    6500            4550.0"
            ]
          },
          "metadata": {
            "tags": []
          },
          "execution_count": 36
        }
      ]
    },
    {
      "cell_type": "code",
      "metadata": {
        "id": "DFcRM90WtyL3",
        "colab_type": "code",
        "outputId": "3ebe42e6-b46f-4aed-ccbe-a60a0db9be73",
        "colab": {
          "base_uri": "https://localhost:8080/",
          "height": 34
        }
      },
      "source": [
        "df_high[\"salary\"].mean()"
      ],
      "execution_count": 0,
      "outputs": [
        {
          "output_type": "execute_result",
          "data": {
            "text/plain": [
              "11348.70848708487"
            ]
          },
          "metadata": {
            "tags": []
          },
          "execution_count": 37
        }
      ]
    },
    {
      "cell_type": "code",
      "metadata": {
        "id": "8-CJeIUttyL8",
        "colab_type": "code",
        "colab": {}
      },
      "source": [
        "df_low= df.loc[df[\"salary\"]<=6500,\"salary\"]\n",
        "df.loc[df[\"salary\"]<=6500,\"salary_after_tax\"] = df_low*.85\n",
        "\n",
        "df_low= df.loc[df[\"salary\"]>6500,\"salary\"]\n",
        "df.loc[df[\"salary\"]>6500,\"salary_after_tax\"] = df_low*.7"
      ],
      "execution_count": 0,
      "outputs": []
    },
    {
      "cell_type": "code",
      "metadata": {
        "id": "zyGoJmsWtyMC",
        "colab_type": "code",
        "outputId": "5b8212e2-e658-4dde-9259-77f889212524",
        "colab": {
          "base_uri": "https://localhost:8080/",
          "height": 221
        }
      },
      "source": [
        "df_low"
      ],
      "execution_count": 0,
      "outputs": [
        {
          "output_type": "execute_result",
          "data": {
            "text/plain": [
              "1      14500\n",
              "2      12000\n",
              "3       8000\n",
              "4       8000\n",
              "5       8000\n",
              "       ...  \n",
              "342     8000\n",
              "343    14500\n",
              "344    12000\n",
              "346     8000\n",
              "348    12000\n",
              "Name: salary, Length: 271, dtype: int64"
            ]
          },
          "metadata": {
            "tags": []
          },
          "execution_count": 40
        }
      ]
    },
    {
      "cell_type": "code",
      "metadata": {
        "id": "nQFQ0pbPtyMH",
        "colab_type": "code",
        "outputId": "2113007d-e9c8-4341-da08-2d4af68698ac",
        "colab": {
          "base_uri": "https://localhost:8080/",
          "height": 359
        }
      },
      "source": [
        "df.head(10)"
      ],
      "execution_count": 0,
      "outputs": [
        {
          "output_type": "execute_result",
          "data": {
            "text/html": [
              "<div>\n",
              "<style scoped>\n",
              "    .dataframe tbody tr th:only-of-type {\n",
              "        vertical-align: middle;\n",
              "    }\n",
              "\n",
              "    .dataframe tbody tr th {\n",
              "        vertical-align: top;\n",
              "    }\n",
              "\n",
              "    .dataframe thead th {\n",
              "        text-align: right;\n",
              "    }\n",
              "</style>\n",
              "<table border=\"1\" class=\"dataframe\">\n",
              "  <thead>\n",
              "    <tr style=\"text-align: right;\">\n",
              "      <th></th>\n",
              "      <th>name</th>\n",
              "      <th>surname</th>\n",
              "      <th>salary</th>\n",
              "    </tr>\n",
              "  </thead>\n",
              "  <tbody>\n",
              "    <tr>\n",
              "      <th>0</th>\n",
              "      <td>John</td>\n",
              "      <td>Black</td>\n",
              "      <td>9000</td>\n",
              "    </tr>\n",
              "    <tr>\n",
              "      <th>1</th>\n",
              "      <td>John</td>\n",
              "      <td>Green</td>\n",
              "      <td>10500</td>\n",
              "    </tr>\n",
              "    <tr>\n",
              "      <th>2</th>\n",
              "      <td>Henry</td>\n",
              "      <td>Black</td>\n",
              "      <td>12000</td>\n",
              "    </tr>\n",
              "    <tr>\n",
              "      <th>3</th>\n",
              "      <td>John</td>\n",
              "      <td>Black</td>\n",
              "      <td>9000</td>\n",
              "    </tr>\n",
              "    <tr>\n",
              "      <th>4</th>\n",
              "      <td>William</td>\n",
              "      <td>White</td>\n",
              "      <td>10500</td>\n",
              "    </tr>\n",
              "    <tr>\n",
              "      <th>5</th>\n",
              "      <td>Albert</td>\n",
              "      <td>White</td>\n",
              "      <td>5500</td>\n",
              "    </tr>\n",
              "    <tr>\n",
              "      <th>6</th>\n",
              "      <td>John</td>\n",
              "      <td>White</td>\n",
              "      <td>11500</td>\n",
              "    </tr>\n",
              "    <tr>\n",
              "      <th>7</th>\n",
              "      <td>John</td>\n",
              "      <td>White</td>\n",
              "      <td>12500</td>\n",
              "    </tr>\n",
              "    <tr>\n",
              "      <th>8</th>\n",
              "      <td>Albert</td>\n",
              "      <td>White</td>\n",
              "      <td>11500</td>\n",
              "    </tr>\n",
              "    <tr>\n",
              "      <th>9</th>\n",
              "      <td>Henry</td>\n",
              "      <td>Green</td>\n",
              "      <td>12500</td>\n",
              "    </tr>\n",
              "  </tbody>\n",
              "</table>\n",
              "</div>"
            ],
            "text/plain": [
              "      name surname  salary\n",
              "0     John   Black    9000\n",
              "1     John   Green   10500\n",
              "2    Henry   Black   12000\n",
              "3     John   Black    9000\n",
              "4  William   White   10500\n",
              "5   Albert   White    5500\n",
              "6     John   White   11500\n",
              "7     John   White   12500\n",
              "8   Albert   White   11500\n",
              "9    Henry   Green   12500"
            ]
          },
          "metadata": {
            "tags": []
          },
          "execution_count": 56
        }
      ]
    },
    {
      "cell_type": "code",
      "metadata": {
        "id": "TGx4c0WDOhiE",
        "colab_type": "code",
        "outputId": "3186baf2-f461-4c7c-ba5e-48cf304809a0",
        "colab": {
          "base_uri": "https://localhost:8080/",
          "height": 419
        }
      },
      "source": [
        "# script to generate random file\n",
        "import pandas as pd\n",
        "import random\n",
        "\n",
        "names = [\"Albert\",\"John\",\"Richard\",\"Henry\",\"William\"]\n",
        "surnames = [\"Goodman\",\"Black\",\"White\",\"Green\",\"Joneson\"]\n",
        "salaries = [500*random.randint(10,30) for _ in range(10)]\n",
        "\n",
        "def generate_random_person(names, surnames, salaries):\n",
        "    return {\"name\":random.sample(names,1)[0],\n",
        "            \"surname\":random.sample(surnames,1)[0],\n",
        "            \"salary\":random.sample(salaries,1)[0]}\n",
        "def generate_people(k):\n",
        "    return [generate_random_person(names, surnames, salaries) for _ in range(k)]\n",
        "\n",
        "df = pd.DataFrame(generate_people(350),columns=[\"name\",\"surname\",\"salary\"])\n",
        "df\n",
        "#df.to_csv(\"random_people.csv\")"
      ],
      "execution_count": 0,
      "outputs": [
        {
          "output_type": "execute_result",
          "data": {
            "text/html": [
              "<div>\n",
              "<style scoped>\n",
              "    .dataframe tbody tr th:only-of-type {\n",
              "        vertical-align: middle;\n",
              "    }\n",
              "\n",
              "    .dataframe tbody tr th {\n",
              "        vertical-align: top;\n",
              "    }\n",
              "\n",
              "    .dataframe thead th {\n",
              "        text-align: right;\n",
              "    }\n",
              "</style>\n",
              "<table border=\"1\" class=\"dataframe\">\n",
              "  <thead>\n",
              "    <tr style=\"text-align: right;\">\n",
              "      <th></th>\n",
              "      <th>name</th>\n",
              "      <th>surname</th>\n",
              "      <th>salary</th>\n",
              "    </tr>\n",
              "  </thead>\n",
              "  <tbody>\n",
              "    <tr>\n",
              "      <th>0</th>\n",
              "      <td>John</td>\n",
              "      <td>Black</td>\n",
              "      <td>9000</td>\n",
              "    </tr>\n",
              "    <tr>\n",
              "      <th>1</th>\n",
              "      <td>John</td>\n",
              "      <td>Green</td>\n",
              "      <td>10500</td>\n",
              "    </tr>\n",
              "    <tr>\n",
              "      <th>2</th>\n",
              "      <td>Henry</td>\n",
              "      <td>Black</td>\n",
              "      <td>12000</td>\n",
              "    </tr>\n",
              "    <tr>\n",
              "      <th>3</th>\n",
              "      <td>John</td>\n",
              "      <td>Black</td>\n",
              "      <td>9000</td>\n",
              "    </tr>\n",
              "    <tr>\n",
              "      <th>4</th>\n",
              "      <td>William</td>\n",
              "      <td>White</td>\n",
              "      <td>10500</td>\n",
              "    </tr>\n",
              "    <tr>\n",
              "      <th>...</th>\n",
              "      <td>...</td>\n",
              "      <td>...</td>\n",
              "      <td>...</td>\n",
              "    </tr>\n",
              "    <tr>\n",
              "      <th>345</th>\n",
              "      <td>William</td>\n",
              "      <td>Joneson</td>\n",
              "      <td>12500</td>\n",
              "    </tr>\n",
              "    <tr>\n",
              "      <th>346</th>\n",
              "      <td>William</td>\n",
              "      <td>Joneson</td>\n",
              "      <td>12500</td>\n",
              "    </tr>\n",
              "    <tr>\n",
              "      <th>347</th>\n",
              "      <td>Richard</td>\n",
              "      <td>Joneson</td>\n",
              "      <td>9000</td>\n",
              "    </tr>\n",
              "    <tr>\n",
              "      <th>348</th>\n",
              "      <td>Richard</td>\n",
              "      <td>Green</td>\n",
              "      <td>12500</td>\n",
              "    </tr>\n",
              "    <tr>\n",
              "      <th>349</th>\n",
              "      <td>Henry</td>\n",
              "      <td>White</td>\n",
              "      <td>12500</td>\n",
              "    </tr>\n",
              "  </tbody>\n",
              "</table>\n",
              "<p>350 rows × 3 columns</p>\n",
              "</div>"
            ],
            "text/plain": [
              "        name  surname  salary\n",
              "0       John    Black    9000\n",
              "1       John    Green   10500\n",
              "2      Henry    Black   12000\n",
              "3       John    Black    9000\n",
              "4    William    White   10500\n",
              "..       ...      ...     ...\n",
              "345  William  Joneson   12500\n",
              "346  William  Joneson   12500\n",
              "347  Richard  Joneson    9000\n",
              "348  Richard    Green   12500\n",
              "349    Henry    White   12500\n",
              "\n",
              "[350 rows x 3 columns]"
            ]
          },
          "metadata": {
            "tags": []
          },
          "execution_count": 43
        }
      ]
    },
    {
      "cell_type": "code",
      "metadata": {
        "id": "AGSDDNVSR972",
        "colab_type": "code",
        "outputId": "df1c5af3-8fb1-47d6-a74f-7addcf2342a6",
        "colab": {
          "base_uri": "https://localhost:8080/",
          "height": 34
        }
      },
      "source": [
        "# Import PyDrive and associated libraries.\n",
        "# This only needs to be done once in a notebook.\n",
        "from pydrive.auth import GoogleAuth\n",
        "from pydrive.drive import GoogleDrive\n",
        "from google.colab import auth\n",
        "from oauth2client.client import GoogleCredentials\n",
        "\n",
        "# Authenticate and create the PyDrive client.\n",
        "# This only needs to be done once in a notebook.\n",
        "\n",
        "# 1. Authenticate and create the PyDrive client.\n",
        "auth.authenticate_user()\n",
        "gauth = GoogleAuth()\n",
        "gauth.credentials = GoogleCredentials.get_application_default()\n",
        "drive = GoogleDrive(gauth)\n",
        "\n",
        "# 2. Create & upload a file text file.\n",
        "# uploaded = drive.CreateFile({'title': 'Sample file.txt'})\n",
        "\n",
        "tgt_folder_id = '1kOM0PQfxKVPCH21oVLukCUwfzTFclb-0'\n",
        "# it corresponds to the path '/content/gdrive/My Drive/00-Data Scientist and ML Engineer/TWDS-Exploratory Data Analysis with Pandas using Jupyter Notebooks'\n",
        "\n",
        "uploaded = drive.CreateFile({\n",
        "        'title': 'df content.csv',\n",
        "        \"mimeType\": \"text/csv\",\n",
        "        'parents': [{'id': tgt_folder_id}] }) \n",
        "\n",
        "import io\n",
        "s = io.StringIO()\n",
        "df.to_csv(s)\n",
        "s.getvalue()\n",
        "uploaded.SetContentString(s.getvalue())\n",
        "uploaded.Upload()\n",
        "print('Uploaded file with ID {}'.format(uploaded.get('id')))\n",
        "\n",
        "# 3. Load a file by ID and print its contents.\n",
        "downloaded = drive.CreateFile({'id': uploaded.get('id')})\n",
        "#print('Downloaded content \"{}\"'.format(downloaded.GetContentString()))"
      ],
      "execution_count": 0,
      "outputs": [
        {
          "output_type": "stream",
          "text": [
            "Uploaded file with ID 1Th868mFwciz6hzAaA5SHcVAiDMQnMnQO\n"
          ],
          "name": "stdout"
        }
      ]
    },
    {
      "cell_type": "code",
      "metadata": {
        "id": "0YyUYmdjY_n6",
        "colab_type": "code",
        "outputId": "9ed5ac74-790e-4e86-aabd-0e941604429a",
        "colab": {
          "base_uri": "https://localhost:8080/",
          "height": 34
        }
      },
      "source": [
        "!apt-get -qq install -y spacy"
      ],
      "execution_count": 0,
      "outputs": [
        {
          "output_type": "stream",
          "text": [
            "E: Unable to locate package spacy\n"
          ],
          "name": "stdout"
        }
      ]
    },
    {
      "cell_type": "code",
      "metadata": {
        "id": "FdzZ2KdaYkHa",
        "colab_type": "code",
        "outputId": "5be3e124-ea34-4ead-b442-f4bad600cccb",
        "colab": {
          "base_uri": "https://localhost:8080/",
          "height": 34
        }
      },
      "source": [
        "%%html\n",
        "<a href=\"http://example.com\">link</a>"
      ],
      "execution_count": 0,
      "outputs": [
        {
          "output_type": "display_data",
          "data": {
            "text/html": [
              "<a href=\"http://example.com\">link</a>"
            ],
            "text/plain": [
              "<IPython.core.display.HTML object>"
            ]
          },
          "metadata": {
            "tags": []
          }
        }
      ]
    },
    {
      "cell_type": "markdown",
      "metadata": {
        "id": "NwCvZ8iEEIm8",
        "colab_type": "text"
      },
      "source": [
        "#Interactive Widgets\n",
        "[Pluralsight](https://app.pluralsight.com/course-player?clipId=d59a222d-c7eb-49cd-a550-49cb63248ee6)"
      ]
    },
    {
      "cell_type": "code",
      "metadata": {
        "id": "CbYjTGdX8pRq",
        "colab_type": "code",
        "colab": {}
      },
      "source": [
        "!pip install ipywidgets"
      ],
      "execution_count": 0,
      "outputs": []
    },
    {
      "cell_type": "code",
      "metadata": {
        "id": "S-tMc6BW83O1",
        "colab_type": "code",
        "colab": {}
      },
      "source": [
        "!jupyter nbextension enable --py -widgetsnbextension --sys-prefix"
      ],
      "execution_count": 0,
      "outputs": []
    },
    {
      "cell_type": "code",
      "metadata": {
        "id": "rhDE1ehC9WSC",
        "colab_type": "code",
        "colab": {}
      },
      "source": [
        "from ipywidgets import interact, interactive, fixed, interact_manual\n",
        "import ipywidgets as widgets"
      ],
      "execution_count": 0,
      "outputs": []
    },
    {
      "cell_type": "code",
      "metadata": {
        "id": "KvzBY_01-Cz_",
        "colab_type": "code",
        "colab": {
          "base_uri": "https://localhost:8080/",
          "height": 49,
          "referenced_widgets": [
            "da3cda51db144be49b0a7a73a9afcae5",
            "23975165164348049c504c782de5443f",
            "9fd7d7bfb833454389740641937cc5cd"
          ]
        },
        "outputId": "2b21cb74-9e79-444c-baed-3a4007621edf"
      },
      "source": [
        "w = widgets.IntSlider(value=10,\n",
        "                      min=-5,\n",
        "                      max=20,\n",
        "                      step=1,\n",
        "                      description='Range Slider:',\n",
        "                      continuous_update=False,\n",
        "                      orientation='horizontal')\n",
        "w"
      ],
      "execution_count": 12,
      "outputs": [
        {
          "output_type": "display_data",
          "data": {
            "application/vnd.jupyter.widget-view+json": {
              "model_id": "da3cda51db144be49b0a7a73a9afcae5",
              "version_minor": 0,
              "version_major": 2
            },
            "text/plain": [
              "IntSlider(value=10, continuous_update=False, description='Range Slider:', max=20, min=-5)"
            ]
          },
          "metadata": {
            "tags": []
          }
        }
      ]
    },
    {
      "cell_type": "code",
      "metadata": {
        "id": "8OTY3YzF-M8n",
        "colab_type": "code",
        "colab": {
          "base_uri": "https://localhost:8080/",
          "height": 34
        },
        "outputId": "8577f486-523f-4d04-c0c8-945f74187f71"
      },
      "source": [
        "w.value"
      ],
      "execution_count": 14,
      "outputs": [
        {
          "output_type": "execute_result",
          "data": {
            "text/plain": [
              "6"
            ]
          },
          "metadata": {
            "tags": []
          },
          "execution_count": 14
        }
      ]
    },
    {
      "cell_type": "code",
      "metadata": {
        "id": "YdiqqDef-NE2",
        "colab_type": "code",
        "colab": {
          "base_uri": "https://localhost:8080/",
          "height": 49,
          "referenced_widgets": [
            "e7943b18e0fd48158d9659efe4c10202",
            "c08fe12526e54da69fed1b142875a593",
            "4b6712383e124b88b87387353e7add65"
          ]
        },
        "outputId": "776cd85a-1078-49a5-f4e2-c0e3292b2257"
      },
      "source": [
        "r = widgets.IntRangeSlider(value=[10,1000],\n",
        "                      min=0,\n",
        "                      max=10000,\n",
        "                      step=1,\n",
        "                      description='Price Slider:',\n",
        "                      orientation='horizontal')\n",
        "r"
      ],
      "execution_count": 16,
      "outputs": [
        {
          "output_type": "display_data",
          "data": {
            "application/vnd.jupyter.widget-view+json": {
              "model_id": "e7943b18e0fd48158d9659efe4c10202",
              "version_minor": 0,
              "version_major": 2
            },
            "text/plain": [
              "IntRangeSlider(value=(10, 1000), description='Price Slider:', max=10000)"
            ]
          },
          "metadata": {
            "tags": []
          }
        }
      ]
    },
    {
      "cell_type": "code",
      "metadata": {
        "id": "vy_oddpv-NLD",
        "colab_type": "code",
        "colab": {
          "base_uri": "https://localhost:8080/",
          "height": 34
        },
        "outputId": "f3f063b9-5d7f-4e1c-ed05-a7a5dd1acb4f"
      },
      "source": [
        "r.value"
      ],
      "execution_count": 18,
      "outputs": [
        {
          "output_type": "execute_result",
          "data": {
            "text/plain": [
              "(3509, 8272)"
            ]
          },
          "metadata": {
            "tags": []
          },
          "execution_count": 18
        }
      ]
    },
    {
      "cell_type": "code",
      "metadata": {
        "id": "bQDE6XrF-NJI",
        "colab_type": "code",
        "colab": {
          "base_uri": "https://localhost:8080/",
          "height": 49,
          "referenced_widgets": [
            "1095987ad10c436a80506eb7fb3c9c75",
            "1dfaaee2dc70467ba9499c31504fad82",
            "79009f25cb144e04a629d929ba421ea6"
          ]
        },
        "outputId": "8af8e5c1-3090-49dd-bd2b-e8ca7f6e6925"
      },
      "source": [
        "p = widgets.IntProgress(value=70,\n",
        "                      min=0,\n",
        "                      max=100,\n",
        "                      step=1,\n",
        "                      description='Loading:',\n",
        "                      bar_style='success',\n",
        "                      orientation='horizontal')\n",
        "p"
      ],
      "execution_count": 24,
      "outputs": [
        {
          "output_type": "display_data",
          "data": {
            "application/vnd.jupyter.widget-view+json": {
              "model_id": "1095987ad10c436a80506eb7fb3c9c75",
              "version_minor": 0,
              "version_major": 2
            },
            "text/plain": [
              "IntProgress(value=70, bar_style='success', description='Loading:')"
            ]
          },
          "metadata": {
            "tags": []
          }
        }
      ]
    },
    {
      "cell_type": "code",
      "metadata": {
        "id": "C6wGh0OS-NCw",
        "colab_type": "code",
        "colab": {}
      },
      "source": [
        "import time\n",
        "for i in range(0,110,10):\n",
        "  p.value =i\n",
        "  time.sleep(1)"
      ],
      "execution_count": 0,
      "outputs": []
    },
    {
      "cell_type": "code",
      "metadata": {
        "id": "guGcQ2Bt_1tX",
        "colab_type": "code",
        "colab": {
          "base_uri": "https://localhost:8080/",
          "height": 49,
          "referenced_widgets": [
            "bc409e5e8b9943f8ab6451e4ba228525",
            "34057efdc8544c1ab7851ae6641ced87",
            "a81b957368f1416196483e8db9a1a46d"
          ]
        },
        "outputId": "23c42635-e862-4d86-cdc9-555522246274"
      },
      "source": [
        "t = widgets.BoundedIntText(value=5,\n",
        "                      min=0,\n",
        "                      max=100,\n",
        "                      step=1,\n",
        "                      description='Test:',\n",
        "                      disabled=False)\n",
        "t"
      ],
      "execution_count": 32,
      "outputs": [
        {
          "output_type": "display_data",
          "data": {
            "application/vnd.jupyter.widget-view+json": {
              "model_id": "bc409e5e8b9943f8ab6451e4ba228525",
              "version_minor": 0,
              "version_major": 2
            },
            "text/plain": [
              "BoundedIntText(value=5, description='Test:')"
            ]
          },
          "metadata": {
            "tags": []
          }
        }
      ]
    },
    {
      "cell_type": "code",
      "metadata": {
        "id": "Gkp4H5WP_1rB",
        "colab_type": "code",
        "colab": {
          "base_uri": "https://localhost:8080/",
          "height": 34
        },
        "outputId": "b06a4418-1537-4070-b19a-0006090e3d3a"
      },
      "source": [
        "t.value"
      ],
      "execution_count": 33,
      "outputs": [
        {
          "output_type": "execute_result",
          "data": {
            "text/plain": [
              "6"
            ]
          },
          "metadata": {
            "tags": []
          },
          "execution_count": 33
        }
      ]
    },
    {
      "cell_type": "code",
      "metadata": {
        "id": "JbwLwcYT_1o7",
        "colab_type": "code",
        "colab": {
          "base_uri": "https://localhost:8080/",
          "height": 49,
          "referenced_widgets": [
            "b83eace18054444d99ac3e2ada1cf07a",
            "b12441e7e0e149afb08c00baeb7e8a98",
            "e9f8253632b2419ebf49934394496950"
          ]
        },
        "outputId": "df6b8ec8-df76-4da9-b41e-726fb718e0fe"
      },
      "source": [
        "widgets.Checkbox(value=False, description='Check Me')"
      ],
      "execution_count": 35,
      "outputs": [
        {
          "output_type": "display_data",
          "data": {
            "application/vnd.jupyter.widget-view+json": {
              "model_id": "b83eace18054444d99ac3e2ada1cf07a",
              "version_minor": 0,
              "version_major": 2
            },
            "text/plain": [
              "Checkbox(value=False, description='Check Me')"
            ]
          },
          "metadata": {
            "tags": []
          }
        }
      ]
    },
    {
      "cell_type": "code",
      "metadata": {
        "id": "qEoTZ3Ph_1lw",
        "colab_type": "code",
        "colab": {}
      },
      "source": [
        " dd = widgets.Dropdown(\n",
        "    options=['None', '1', '2', '3'],\n",
        "    value='None',\n",
        "    description='Number:',\n",
        "    disabled=False)"
      ],
      "execution_count": 0,
      "outputs": []
    },
    {
      "cell_type": "code",
      "metadata": {
        "id": "tAN4XJ5JBjeh",
        "colab_type": "code",
        "colab": {
          "base_uri": "https://localhost:8080/",
          "height": 49,
          "referenced_widgets": [
            "e2ab742ff6e441ddad0c997750a0a075",
            "6bc16543dd4c4e398ccb6ee309ca3f30",
            "1b1ac0e6bfed444ea6b8a5af5d4c2e3d"
          ]
        },
        "outputId": "3a846196-de1e-40c1-9a27-b46e820aedf5"
      },
      "source": [
        "dd"
      ],
      "execution_count": 42,
      "outputs": [
        {
          "output_type": "display_data",
          "data": {
            "application/vnd.jupyter.widget-view+json": {
              "model_id": "e2ab742ff6e441ddad0c997750a0a075",
              "version_minor": 0,
              "version_major": 2
            },
            "text/plain": [
              "Dropdown(description='Number:', index=1, options=('None', '1', '2', '3'), value='1')"
            ]
          },
          "metadata": {
            "tags": []
          }
        }
      ]
    },
    {
      "cell_type": "code",
      "metadata": {
        "id": "4KgWwtOpBjcM",
        "colab_type": "code",
        "colab": {
          "base_uri": "https://localhost:8080/",
          "height": 34
        },
        "outputId": "448d07c6-8b40-4f32-e53f-261d9f679c96"
      },
      "source": [
        "dd.value"
      ],
      "execution_count": 43,
      "outputs": [
        {
          "output_type": "execute_result",
          "data": {
            "text/plain": [
              "'1'"
            ]
          },
          "metadata": {
            "tags": []
          },
          "execution_count": 43
        }
      ]
    },
    {
      "cell_type": "code",
      "metadata": {
        "id": "7RCX1HNcBjaI",
        "colab_type": "code",
        "colab": {
          "base_uri": "https://localhost:8080/",
          "height": 145,
          "referenced_widgets": [
            "83ad797fdfb44d4491bcc10b99f8a0fe",
            "c8b46225bada47f1b7f5a82ef914c435",
            "039c3822ed9d4b679950f006a349e780"
          ]
        },
        "outputId": "fab3f95d-8b7c-400b-aa8b-532a81e57e18"
      },
      "source": [
        "rb = widgets.RadioButtons(\n",
        "    options=['pepperoni', 'pineapple', 'anchovies', 'spaghetti', 'macaroni'],\n",
        "#    value='pineapple', # Defaults to 'pineapple'\n",
        "#    layout={'width': 'max-content'}, # If the items' names are long\n",
        "    description='Pizza topping:',\n",
        "    disabled=False\n",
        ")\n",
        "rb"
      ],
      "execution_count": 48,
      "outputs": [
        {
          "output_type": "display_data",
          "data": {
            "application/vnd.jupyter.widget-view+json": {
              "model_id": "83ad797fdfb44d4491bcc10b99f8a0fe",
              "version_minor": 0,
              "version_major": 2
            },
            "text/plain": [
              "RadioButtons(description='Pizza topping:', options=('pepperoni', 'pineapple', 'anchovies', 'spaghetti', 'macar…"
            ]
          },
          "metadata": {
            "tags": []
          }
        }
      ]
    },
    {
      "cell_type": "code",
      "metadata": {
        "id": "snbGV87PBjX4",
        "colab_type": "code",
        "colab": {
          "base_uri": "https://localhost:8080/",
          "height": 34
        },
        "outputId": "8f826c0a-a19e-4ef7-cd12-7e401986ce20"
      },
      "source": [
        "rb.value"
      ],
      "execution_count": 49,
      "outputs": [
        {
          "output_type": "execute_result",
          "data": {
            "text/plain": [
              "'macaroni'"
            ]
          },
          "metadata": {
            "tags": []
          },
          "execution_count": 49
        }
      ]
    },
    {
      "cell_type": "code",
      "metadata": {
        "id": "YWplWKRSBjVU",
        "colab_type": "code",
        "colab": {}
      },
      "source": [
        "button = widgets.Button(\n",
        "    description='Happiness button',\n",
        "    disabled=False,\n",
        "    button_style='', # 'success', 'info', 'warning', 'danger' or ''\n",
        "    tooltip='Click me',\n",
        "    icon='check' # (FontAwesome names without the `fa-` prefix)\n",
        ")"
      ],
      "execution_count": 0,
      "outputs": []
    },
    {
      "cell_type": "code",
      "metadata": {
        "id": "oz_HwEPlBjSV",
        "colab_type": "code",
        "colab": {}
      },
      "source": [
        "def button_click_event_handler(button):\n",
        "  print('Youclicked! Goog things are about to happen!')\n",
        "  print(button.description)"
      ],
      "execution_count": 0,
      "outputs": []
    },
    {
      "cell_type": "code",
      "metadata": {
        "id": "V8tnWyiZDN1P",
        "colab_type": "code",
        "colab": {}
      },
      "source": [
        "button.on_click(button_click_event_handler)"
      ],
      "execution_count": 0,
      "outputs": []
    },
    {
      "cell_type": "code",
      "metadata": {
        "id": "71oEPu1TDZro",
        "colab_type": "code",
        "colab": {}
      },
      "source": [
        "button"
      ],
      "execution_count": 0,
      "outputs": []
    },
    {
      "cell_type": "markdown",
      "metadata": {
        "id": "oKEo3fsUD8Zq",
        "colab_type": "text"
      },
      "source": [
        "#Addint interactivity to Notebook\n",
        "[Pluralsight](https://app.pluralsight.com/course-player?clipId=8b9004be-24d3-4081-8d0d-7fe73722ff14)"
      ]
    },
    {
      "cell_type": "code",
      "metadata": {
        "id": "pzfTxcOdDZot",
        "colab_type": "code",
        "colab": {
          "base_uri": "https://localhost:8080/",
          "height": 66,
          "referenced_widgets": [
            "2835bf9697364900a395ad8ee169aea4",
            "6e749775ecbc46df94f011ea8d937121",
            "17a6dd016a264af48d19c3395725c154",
            "453e1187e7754be18cef1522c7bd34bc",
            "f54d6712a87f45d0a9ff60bb07053615",
            "ee10173206f94184aaa7d4c6ab911869",
            "0632939e8694442a918995bf67445089"
          ]
        },
        "outputId": "244b25e7-340d-4ae1-8def-6d899b79a71a"
      },
      "source": [
        "def f(x):\n",
        "  return x\n",
        "interact(f, x=10);"
      ],
      "execution_count": 65,
      "outputs": [
        {
          "output_type": "display_data",
          "data": {
            "application/vnd.jupyter.widget-view+json": {
              "model_id": "2835bf9697364900a395ad8ee169aea4",
              "version_minor": 0,
              "version_major": 2
            },
            "text/plain": [
              "interactive(children=(IntSlider(value=10, description='x', max=30, min=-10), Output()), _dom_classes=('widget-…"
            ]
          },
          "metadata": {
            "tags": []
          }
        }
      ]
    },
    {
      "cell_type": "code",
      "metadata": {
        "id": "puS2aqZPDZlQ",
        "colab_type": "code",
        "colab": {
          "base_uri": "https://localhost:8080/",
          "height": 66,
          "referenced_widgets": [
            "41af4916e49f479bb337d38f27389416",
            "20c3a78695f2472db2827db0a134ca84",
            "18ff20fc183a42f1a9318d18818774b1",
            "41c3f8472c424ca380850e14c0553361",
            "0b387e0843fa489993d2a175f08d10d3",
            "60c12522e29e438ea515a41c165a3bde",
            "5977a9f3999447958eab06188635a63e"
          ]
        },
        "outputId": "247917d3-7e3b-4622-9a5a-9927d0cbc868"
      },
      "source": [
        "interact(f, x=True);"
      ],
      "execution_count": 66,
      "outputs": [
        {
          "output_type": "display_data",
          "data": {
            "application/vnd.jupyter.widget-view+json": {
              "model_id": "41af4916e49f479bb337d38f27389416",
              "version_minor": 0,
              "version_major": 2
            },
            "text/plain": [
              "interactive(children=(Checkbox(value=True, description='x'), Output()), _dom_classes=('widget-interact',))"
            ]
          },
          "metadata": {
            "tags": []
          }
        }
      ]
    },
    {
      "cell_type": "code",
      "metadata": {
        "id": "DVzQ--yjEq9n",
        "colab_type": "code",
        "colab": {
          "base_uri": "https://localhost:8080/",
          "height": 66,
          "referenced_widgets": [
            "dd56508fc2e74d50af88b7aa2aed18a2",
            "a329ff4f53d140b4911ac2a6e6b5ae54",
            "72340a506eae462cb7bba22ebb93235d",
            "d1655fb2f2914ef5b9d1affa25a704b3",
            "a4d8fae600c946358d5bae78c8a8b559",
            "ffd86bd990bb43b89c351c9658b1bf27",
            "45fe59a33de74688a67445493809e53a"
          ]
        },
        "outputId": "f97304a1-e30b-44b6-c942-22544c164af4"
      },
      "source": [
        "interact(f, x='Hello Widgets');"
      ],
      "execution_count": 67,
      "outputs": [
        {
          "output_type": "display_data",
          "data": {
            "application/vnd.jupyter.widget-view+json": {
              "model_id": "dd56508fc2e74d50af88b7aa2aed18a2",
              "version_minor": 0,
              "version_major": 2
            },
            "text/plain": [
              "interactive(children=(Text(value='Hello Widgets', description='x'), Output()), _dom_classes=('widget-interact'…"
            ]
          },
          "metadata": {
            "tags": []
          }
        }
      ]
    },
    {
      "cell_type": "code",
      "metadata": {
        "id": "JCw4WngdEq7C",
        "colab_type": "code",
        "colab": {}
      },
      "source": [
        ""
      ],
      "execution_count": 0,
      "outputs": []
    },
    {
      "cell_type": "code",
      "metadata": {
        "id": "CIJHJ0EfEw27",
        "colab_type": "code",
        "colab": {
          "base_uri": "https://localhost:8080/",
          "height": 98,
          "referenced_widgets": [
            "a02072698e6b4152b3579f9430bcf58b",
            "57f05dac069045f99cbce7e0a0dd763c",
            "3e35c337d53443ffa780bd217c161be0",
            "ea7a8b21c08b432c8a76927b3f8dbdf4",
            "ec0d6c5bc4f34a53bb413d5c79b91d06",
            "95a9bb1eae3e47e8ac1b5b70989da312",
            "3293613222ee4d16abf3692c9b6a05ee",
            "ddbc6760bc714a6982a9321b2e7cc36b",
            "91201913472f412782dbe678b6418802",
            "85d432dadbc749e2809b53e4edec88f6"
          ]
        },
        "outputId": "682d1e53-c5d7-4a94-b69e-252c121c2db7"
      },
      "source": [
        "@interact(x=True, y=5.0)\n",
        "def g(x,y):\n",
        "  return (x, y)"
      ],
      "execution_count": 68,
      "outputs": [
        {
          "output_type": "display_data",
          "data": {
            "application/vnd.jupyter.widget-view+json": {
              "model_id": "a02072698e6b4152b3579f9430bcf58b",
              "version_minor": 0,
              "version_major": 2
            },
            "text/plain": [
              "interactive(children=(Checkbox(value=True, description='x'), FloatSlider(value=5.0, description='y', max=15.0,…"
            ]
          },
          "metadata": {
            "tags": []
          }
        }
      ]
    },
    {
      "cell_type": "code",
      "metadata": {
        "id": "9LNDV1sdEw0I",
        "colab_type": "code",
        "colab": {}
      },
      "source": [
        "def h(p, q):\n",
        "  return (p, q)"
      ],
      "execution_count": 0,
      "outputs": []
    },
    {
      "cell_type": "code",
      "metadata": {
        "id": "X1PXm2m_Ewxs",
        "colab_type": "code",
        "colab": {
          "base_uri": "https://localhost:8080/",
          "height": 83,
          "referenced_widgets": [
            "bd883ff51dcf44c4ac90b688dc26fc1d",
            "cd51f64521364912a82e446902090dc4",
            "11b7e2b45ab640d082634c627169b75a",
            "a338f704d6684665ba8121682adce2ff",
            "a7df1aca77cb46aeae0a3b1389e315e6",
            "c60cb3674b76462a9bccc66c73fbed0a",
            "3d30ff4b33a942598c58c1727065b943"
          ]
        },
        "outputId": "227e7252-c403-4a33-b16e-632a2024d0e9"
      },
      "source": [
        "interact(h, p=5, q=fixed(20))"
      ],
      "execution_count": 70,
      "outputs": [
        {
          "output_type": "display_data",
          "data": {
            "application/vnd.jupyter.widget-view+json": {
              "model_id": "bd883ff51dcf44c4ac90b688dc26fc1d",
              "version_minor": 0,
              "version_major": 2
            },
            "text/plain": [
              "interactive(children=(IntSlider(value=5, description='p', max=15, min=-5), Output()), _dom_classes=('widget-in…"
            ]
          },
          "metadata": {
            "tags": []
          }
        },
        {
          "output_type": "execute_result",
          "data": {
            "text/plain": [
              "<function __main__.h>"
            ]
          },
          "metadata": {
            "tags": []
          },
          "execution_count": 70
        }
      ]
    },
    {
      "cell_type": "code",
      "metadata": {
        "id": "FrQgNxKDEwvU",
        "colab_type": "code",
        "colab": {}
      },
      "source": [
        "import matplotlib.pyplot as plt\n",
        "import numpy as np"
      ],
      "execution_count": 0,
      "outputs": []
    },
    {
      "cell_type": "code",
      "metadata": {
        "id": "0PIPCFHTEq4G",
        "colab_type": "code",
        "colab": {}
      },
      "source": [
        "def f(m, b):\n",
        "  plt.figure(2)\n",
        "  x = np.linspace(-10, 10, num=1000)\n",
        "  plt.plot(x, m *x + b)\n",
        "  plt.ylim(-5, 5)\n",
        "  plt.show()\n",
        "\n",
        "interactive_plot = interactive(f, m = (-2.0,2.0), b=(-3, 3, 0.5))"
      ],
      "execution_count": 0,
      "outputs": []
    },
    {
      "cell_type": "code",
      "metadata": {
        "id": "o1s_RNGcEq01",
        "colab_type": "code",
        "colab": {}
      },
      "source": [
        "output = interactive_plot.children[-1]\n",
        "output.layout.height = '350px'\n",
        "interactive_plot\n"
      ],
      "execution_count": 0,
      "outputs": []
    },
    {
      "cell_type": "code",
      "metadata": {
        "id": "-5in4yriHCtX",
        "colab_type": "code",
        "colab": {
          "base_uri": "https://localhost:8080/",
          "height": 66,
          "referenced_widgets": [
            "46cec678d3384fde809daf9f4372765d",
            "9fea71fbe687473b9e03ae60bbe1456e",
            "ce41600bb711420bbda858ad6e7525c0"
          ]
        },
        "outputId": "f0a33f1a-b9bf-4b6e-d3db-b7a1107fedc0"
      },
      "source": [
        "from IPython.display import display\n",
        "text = widgets.Text()\n",
        "display(text)\n",
        "def make_upper_case(input_text):\n",
        "  text.value = input_text.value.upper()\n",
        "  print(text.value )\n",
        "\n",
        "text.on_submit(make_upper_case)"
      ],
      "execution_count": 77,
      "outputs": [
        {
          "output_type": "display_data",
          "data": {
            "application/vnd.jupyter.widget-view+json": {
              "model_id": "46cec678d3384fde809daf9f4372765d",
              "version_minor": 0,
              "version_major": 2
            },
            "text/plain": [
              "Text(value='')"
            ]
          },
          "metadata": {
            "tags": []
          }
        },
        {
          "output_type": "stream",
          "text": [
            "D<DCDSC\n"
          ],
          "name": "stdout"
        }
      ]
    },
    {
      "cell_type": "code",
      "metadata": {
        "id": "koM64155HCqY",
        "colab_type": "code",
        "colab": {
          "base_uri": "https://localhost:8080/",
          "height": 139
        },
        "outputId": "b43c75b8-b7a1-4f79-8da8-d40c744ce0e8"
      },
      "source": [
        "import pandas as pd\n",
        "\n",
        "from google.colab import drive\n",
        "import pandas as pd\n",
        "\n",
        "drive.mount('/content/gdrive')\n",
        "nba = pd.read_csv('/content/gdrive/My Drive/00-Data Scientist and ML Engineer/02-Data Analysis with Pandas and Python/original/nba.csv')\n",
        "\n",
        "nRow, nCol = nba.shape\n",
        "print(f'There are {nRow} rows and {nCol} columns')"
      ],
      "execution_count": 78,
      "outputs": [
        {
          "output_type": "stream",
          "text": [
            "Go to this URL in a browser: https://accounts.google.com/o/oauth2/auth?client_id=947318989803-6bn6qk8qdgf4n4g3pfee6491hc0brc4i.apps.googleusercontent.com&redirect_uri=urn%3aietf%3awg%3aoauth%3a2.0%3aoob&response_type=code&scope=email%20https%3a%2f%2fwww.googleapis.com%2fauth%2fdocs.test%20https%3a%2f%2fwww.googleapis.com%2fauth%2fdrive%20https%3a%2f%2fwww.googleapis.com%2fauth%2fdrive.photos.readonly%20https%3a%2f%2fwww.googleapis.com%2fauth%2fpeopleapi.readonly\n",
            "\n",
            "Enter your authorization code:\n",
            "··········\n",
            "Mounted at /content/gdrive\n",
            "There are 458 rows and 9 columns\n"
          ],
          "name": "stdout"
        }
      ]
    },
    {
      "cell_type": "code",
      "metadata": {
        "id": "5PfF5jTYHCnT",
        "colab_type": "code",
        "colab": {
          "base_uri": "https://localhost:8080/",
          "height": 359
        },
        "outputId": "c232605d-2dfd-45f9-c775-d3da5644b1c5"
      },
      "source": [
        "nba.sample(10)"
      ],
      "execution_count": 79,
      "outputs": [
        {
          "output_type": "execute_result",
          "data": {
            "text/html": [
              "<div>\n",
              "<style scoped>\n",
              "    .dataframe tbody tr th:only-of-type {\n",
              "        vertical-align: middle;\n",
              "    }\n",
              "\n",
              "    .dataframe tbody tr th {\n",
              "        vertical-align: top;\n",
              "    }\n",
              "\n",
              "    .dataframe thead th {\n",
              "        text-align: right;\n",
              "    }\n",
              "</style>\n",
              "<table border=\"1\" class=\"dataframe\">\n",
              "  <thead>\n",
              "    <tr style=\"text-align: right;\">\n",
              "      <th></th>\n",
              "      <th>Name</th>\n",
              "      <th>Team</th>\n",
              "      <th>Number</th>\n",
              "      <th>Position</th>\n",
              "      <th>Age</th>\n",
              "      <th>Height</th>\n",
              "      <th>Weight</th>\n",
              "      <th>College</th>\n",
              "      <th>Salary</th>\n",
              "    </tr>\n",
              "  </thead>\n",
              "  <tbody>\n",
              "    <tr>\n",
              "      <th>423</th>\n",
              "      <td>Andre Roberson</td>\n",
              "      <td>Oklahoma City Thunder</td>\n",
              "      <td>21.0</td>\n",
              "      <td>SG</td>\n",
              "      <td>24.0</td>\n",
              "      <td>6-7</td>\n",
              "      <td>210.0</td>\n",
              "      <td>Colorado</td>\n",
              "      <td>1210800.0</td>\n",
              "    </tr>\n",
              "    <tr>\n",
              "      <th>88</th>\n",
              "      <td>Marreese Speights</td>\n",
              "      <td>Golden State Warriors</td>\n",
              "      <td>5.0</td>\n",
              "      <td>C</td>\n",
              "      <td>28.0</td>\n",
              "      <td>6-10</td>\n",
              "      <td>255.0</td>\n",
              "      <td>Florida</td>\n",
              "      <td>3815000.0</td>\n",
              "    </tr>\n",
              "    <tr>\n",
              "      <th>287</th>\n",
              "      <td>Alonzo Gee</td>\n",
              "      <td>New Orleans Pelicans</td>\n",
              "      <td>15.0</td>\n",
              "      <td>SF</td>\n",
              "      <td>29.0</td>\n",
              "      <td>6-6</td>\n",
              "      <td>225.0</td>\n",
              "      <td>Alabama</td>\n",
              "      <td>1320000.0</td>\n",
              "    </tr>\n",
              "    <tr>\n",
              "      <th>49</th>\n",
              "      <td>Joel Embiid</td>\n",
              "      <td>Philadelphia 76ers</td>\n",
              "      <td>21.0</td>\n",
              "      <td>C</td>\n",
              "      <td>22.0</td>\n",
              "      <td>7-0</td>\n",
              "      <td>250.0</td>\n",
              "      <td>Kansas</td>\n",
              "      <td>4626960.0</td>\n",
              "    </tr>\n",
              "    <tr>\n",
              "      <th>104</th>\n",
              "      <td>Austin Rivers</td>\n",
              "      <td>Los Angeles Clippers</td>\n",
              "      <td>25.0</td>\n",
              "      <td>PG</td>\n",
              "      <td>23.0</td>\n",
              "      <td>6-4</td>\n",
              "      <td>200.0</td>\n",
              "      <td>Duke</td>\n",
              "      <td>3110796.0</td>\n",
              "    </tr>\n",
              "    <tr>\n",
              "      <th>430</th>\n",
              "      <td>Allen Crabbe</td>\n",
              "      <td>Portland Trail Blazers</td>\n",
              "      <td>23.0</td>\n",
              "      <td>SG</td>\n",
              "      <td>24.0</td>\n",
              "      <td>6-6</td>\n",
              "      <td>210.0</td>\n",
              "      <td>California</td>\n",
              "      <td>947276.0</td>\n",
              "    </tr>\n",
              "    <tr>\n",
              "      <th>248</th>\n",
              "      <td>Andrew Goudelock</td>\n",
              "      <td>Houston Rockets</td>\n",
              "      <td>0.0</td>\n",
              "      <td>PG</td>\n",
              "      <td>27.0</td>\n",
              "      <td>6-3</td>\n",
              "      <td>200.0</td>\n",
              "      <td>Charleston</td>\n",
              "      <td>200600.0</td>\n",
              "    </tr>\n",
              "    <tr>\n",
              "      <th>183</th>\n",
              "      <td>Steve Blake</td>\n",
              "      <td>Detroit Pistons</td>\n",
              "      <td>22.0</td>\n",
              "      <td>PG</td>\n",
              "      <td>36.0</td>\n",
              "      <td>6-3</td>\n",
              "      <td>172.0</td>\n",
              "      <td>Maryland</td>\n",
              "      <td>2170465.0</td>\n",
              "    </tr>\n",
              "    <tr>\n",
              "      <th>139</th>\n",
              "      <td>Caron Butler</td>\n",
              "      <td>Sacramento Kings</td>\n",
              "      <td>31.0</td>\n",
              "      <td>SF</td>\n",
              "      <td>36.0</td>\n",
              "      <td>6-7</td>\n",
              "      <td>228.0</td>\n",
              "      <td>Connecticut</td>\n",
              "      <td>1449187.0</td>\n",
              "    </tr>\n",
              "    <tr>\n",
              "      <th>43</th>\n",
              "      <td>Sasha Vujacic</td>\n",
              "      <td>New York Knicks</td>\n",
              "      <td>18.0</td>\n",
              "      <td>SG</td>\n",
              "      <td>32.0</td>\n",
              "      <td>6-7</td>\n",
              "      <td>195.0</td>\n",
              "      <td>NaN</td>\n",
              "      <td>947276.0</td>\n",
              "    </tr>\n",
              "  </tbody>\n",
              "</table>\n",
              "</div>"
            ],
            "text/plain": [
              "                  Name                    Team  ...      College     Salary\n",
              "423     Andre Roberson   Oklahoma City Thunder  ...     Colorado  1210800.0\n",
              "88   Marreese Speights   Golden State Warriors  ...      Florida  3815000.0\n",
              "287         Alonzo Gee    New Orleans Pelicans  ...      Alabama  1320000.0\n",
              "49         Joel Embiid      Philadelphia 76ers  ...       Kansas  4626960.0\n",
              "104      Austin Rivers    Los Angeles Clippers  ...         Duke  3110796.0\n",
              "430       Allen Crabbe  Portland Trail Blazers  ...   California   947276.0\n",
              "248   Andrew Goudelock         Houston Rockets  ...   Charleston   200600.0\n",
              "183        Steve Blake         Detroit Pistons  ...     Maryland  2170465.0\n",
              "139       Caron Butler        Sacramento Kings  ...  Connecticut  1449187.0\n",
              "43       Sasha Vujacic         New York Knicks  ...          NaN   947276.0\n",
              "\n",
              "[10 rows x 9 columns]"
            ]
          },
          "metadata": {
            "tags": []
          },
          "execution_count": 79
        }
      ]
    },
    {
      "cell_type": "code",
      "metadata": {
        "id": "v4M_-W3YHCkr",
        "colab_type": "code",
        "colab": {
          "base_uri": "https://localhost:8080/",
          "height": 1000,
          "referenced_widgets": [
            "e49d4a74349643dc8e9d01ae12becc28",
            "60efb9c9fc854f339dee64653d8be806",
            "962f9f4940dc4ea595a201df41ebfec5",
            "010f2d082b7f4c7889ff5b4d5079dc09",
            "7828f838e1d442edae56368a222aca2a",
            "a68a33a308bd4b59b6e87a251559481c",
            "ac61659280754fefbc42eea8cb71d472",
            "21f36378264e405780b716dc95b7c22e",
            "4b77a6f46bed44e0a4fcdde313a05725",
            "86f1fefcc7e64747a3217ff03834bd3d"
          ]
        },
        "outputId": "b7c13410-0edd-44a3-bb8f-24e1d4732967"
      },
      "source": [
        "@interact\n",
        "def show_age_more_than(column='Age', x = 25):\n",
        "  return nba.loc[nba[column] > x]"
      ],
      "execution_count": 81,
      "outputs": [
        {
          "output_type": "display_data",
          "data": {
            "application/vnd.jupyter.widget-view+json": {
              "model_id": "e49d4a74349643dc8e9d01ae12becc28",
              "version_minor": 0,
              "version_major": 2
            },
            "text/plain": [
              "interactive(children=(Text(value='Age', description='column'), IntSlider(value=25, description='x', max=75, mi…"
            ]
          },
          "metadata": {
            "tags": []
          }
        }
      ]
    },
    {
      "cell_type": "code",
      "metadata": {
        "id": "jbeeVwenHChR",
        "colab_type": "code",
        "colab": {}
      },
      "source": [
        ""
      ],
      "execution_count": 0,
      "outputs": []
    }
  ]
}